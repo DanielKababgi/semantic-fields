{
 "cells": [
  {
   "cell_type": "markdown",
   "id": "6b1e3b9d-ec81-485f-b0fe-528aecb1e797",
   "metadata": {},
   "source": [
    "# Corpus preparation for drama corpus\n",
    "\n",
    "To-Do:\n",
    "- load metadata\n",
    "- clean strings from \\<xml\\>-stuff \n",
    "- write cleaned texts to new files\n",
    "- copy cleaned strings to new directories\n",
    "    -> corpus_\\[genre\\]_\\[period\\]\n",
    "    \n",
    "## load metadata"
   ]
  },
  {
   "cell_type": "code",
   "execution_count": 53,
   "id": "f6acc75d-2815-4ce5-9329-6ab22dba3f3a",
   "metadata": {},
   "outputs": [
    {
     "data": {
      "text/html": [
       "<div>\n",
       "<style scoped>\n",
       "    .dataframe tbody tr th:only-of-type {\n",
       "        vertical-align: middle;\n",
       "    }\n",
       "\n",
       "    .dataframe tbody tr th {\n",
       "        vertical-align: top;\n",
       "    }\n",
       "\n",
       "    .dataframe thead th {\n",
       "        text-align: right;\n",
       "    }\n",
       "</style>\n",
       "<table border=\"1\" class=\"dataframe\">\n",
       "  <thead>\n",
       "    <tr style=\"text-align: right;\">\n",
       "      <th></th>\n",
       "      <th>id</th>\n",
       "      <th>title</th>\n",
       "      <th>author</th>\n",
       "      <th>period</th>\n",
       "      <th>type</th>\n",
       "      <th>genre</th>\n",
       "      <th>date</th>\n",
       "      <th>file</th>\n",
       "      <th>source</th>\n",
       "      <th>annotation</th>\n",
       "    </tr>\n",
       "  </thead>\n",
       "  <tbody>\n",
       "    <tr>\n",
       "      <th>0</th>\n",
       "      <td>1</td>\n",
       "      <td>Der sterbende Cato</td>\n",
       "      <td>Gottsched</td>\n",
       "      <td>Aufklaerung</td>\n",
       "      <td>Tragedy</td>\n",
       "      <td>drama</td>\n",
       "      <td>1731</td>\n",
       "      <td>gottsched-der-sterbende-cato</td>\n",
       "      <td>https://github.com/dracor-org/gerdracor</td>\n",
       "      <td>NaN</td>\n",
       "    </tr>\n",
       "    <tr>\n",
       "      <th>1</th>\n",
       "      <td>2</td>\n",
       "      <td>Ein Deutsches Vorspiel</td>\n",
       "      <td>Neuber</td>\n",
       "      <td>Aufklaerung</td>\n",
       "      <td>NaN</td>\n",
       "      <td>drama</td>\n",
       "      <td>1734</td>\n",
       "      <td>neuber-ein-deutsches-vorspiel</td>\n",
       "      <td>https://github.com/dracor-org/gerdracor</td>\n",
       "      <td>NaN</td>\n",
       "    </tr>\n",
       "    <tr>\n",
       "      <th>2</th>\n",
       "      <td>3</td>\n",
       "      <td>Die Pietisterey im Fischbein-Rocke oder Die Do...</td>\n",
       "      <td>Gottsched</td>\n",
       "      <td>Aufklaerung</td>\n",
       "      <td>Comedy</td>\n",
       "      <td>drama</td>\n",
       "      <td>1736</td>\n",
       "      <td>gottschedin-die-pietisterey-im-fischbein-rocke</td>\n",
       "      <td>https://github.com/dracor-org/gerdracor</td>\n",
       "      <td>NaN</td>\n",
       "    </tr>\n",
       "    <tr>\n",
       "      <th>3</th>\n",
       "      <td>4</td>\n",
       "      <td>Die von der Weisheit wider die Unwissenheit be...</td>\n",
       "      <td>Neuber</td>\n",
       "      <td>Aufklaerung</td>\n",
       "      <td>NaN</td>\n",
       "      <td>drama</td>\n",
       "      <td>1736</td>\n",
       "      <td>neuber-die-beschuetzte-schauspielkunst</td>\n",
       "      <td>https://github.com/dracor-org/gerdracor</td>\n",
       "      <td>NaN</td>\n",
       "    </tr>\n",
       "    <tr>\n",
       "      <th>4</th>\n",
       "      <td>5</td>\n",
       "      <td>Die Verehrung der Vollkommenheit durch die geb...</td>\n",
       "      <td>Neuber</td>\n",
       "      <td>Aufklaerung</td>\n",
       "      <td>NaN</td>\n",
       "      <td>drama</td>\n",
       "      <td>1737</td>\n",
       "      <td>neuber-die-verehrung-der-vollkommenheit</td>\n",
       "      <td>https://github.com/dracor-org/gerdracor</td>\n",
       "      <td>NaN</td>\n",
       "    </tr>\n",
       "  </tbody>\n",
       "</table>\n",
       "</div>"
      ],
      "text/plain": [
       "   id                                              title     author  \\\n",
       "0   1                                 Der sterbende Cato  Gottsched   \n",
       "1   2                             Ein Deutsches Vorspiel     Neuber   \n",
       "2   3  Die Pietisterey im Fischbein-Rocke oder Die Do...  Gottsched   \n",
       "3   4  Die von der Weisheit wider die Unwissenheit be...     Neuber   \n",
       "4   5  Die Verehrung der Vollkommenheit durch die geb...     Neuber   \n",
       "\n",
       "        period     type  genre  date  \\\n",
       "0  Aufklaerung  Tragedy  drama  1731   \n",
       "1  Aufklaerung      NaN  drama  1734   \n",
       "2  Aufklaerung   Comedy  drama  1736   \n",
       "3  Aufklaerung      NaN  drama  1736   \n",
       "4  Aufklaerung      NaN  drama  1737   \n",
       "\n",
       "                                             file  \\\n",
       "0                    gottsched-der-sterbende-cato   \n",
       "1                   neuber-ein-deutsches-vorspiel   \n",
       "2  gottschedin-die-pietisterey-im-fischbein-rocke   \n",
       "3          neuber-die-beschuetzte-schauspielkunst   \n",
       "4         neuber-die-verehrung-der-vollkommenheit   \n",
       "\n",
       "                                    source  annotation  \n",
       "0  https://github.com/dracor-org/gerdracor         NaN  \n",
       "1  https://github.com/dracor-org/gerdracor         NaN  \n",
       "2  https://github.com/dracor-org/gerdracor         NaN  \n",
       "3  https://github.com/dracor-org/gerdracor         NaN  \n",
       "4  https://github.com/dracor-org/gerdracor         NaN  "
      ]
     },
     "execution_count": 53,
     "metadata": {},
     "output_type": "execute_result"
    }
   ],
   "source": [
    "import pandas as pd\n",
    "\n",
    "meta = pd.read_csv(\"metadata_drama.csv\", encoding = \"utf-8\")\n",
    "meta.head()"
   ]
  },
  {
   "cell_type": "markdown",
   "id": "0b960f21-48ef-4332-a90c-1d105a395a4e",
   "metadata": {},
   "source": [
    "## clean strings\n",
    "\n",
    "steps:\n",
    "- load files into array\n",
    "- brief cleaning of \\* and \\[xyz\\] and \\<xml\\>-stuff "
   ]
  },
  {
   "cell_type": "code",
   "execution_count": 61,
   "id": "36974d4a-6b8a-4774-bc8b-53036e53eeb3",
   "metadata": {},
   "outputs": [],
   "source": [
    "# load corpus\n",
    "\n",
    "def load_corpus(path):\n",
    "    from numpy import append \n",
    "\n",
    "    sentences = []\n",
    "    for filename in meta[\"file\"]:\n",
    "        with open(path + filename + \".xml\", 'r', encoding=\"utf8\") as f:\n",
    "            sentences.append(f.read())\n",
    "            f.close()\n",
    "    return sentences"
   ]
  },
  {
   "cell_type": "code",
   "execution_count": 62,
   "id": "f6ffdc11-3dd9-4f41-a3a7-dec2460b00bb",
   "metadata": {},
   "outputs": [
    {
     "name": "stdout",
     "output_type": "stream",
     "text": [
      "<?xml version=\"1.0\" encoding=\"utf-8\"?>\n",
      "<?xml-stylesheet type=\"text/css\" href=\"../css/tei.css\"?>\n",
      "<?xm\n"
     ]
    }
   ],
   "source": [
    "texts = load_corpus(\"data_drama/\")\n",
    "print(texts[0][:100])"
   ]
  },
  {
   "cell_type": "code",
   "execution_count": 67,
   "id": "8411ec4d-b2f3-456e-a865-da9be8da8792",
   "metadata": {},
   "outputs": [],
   "source": [
    "import re\n",
    "\n",
    "cleaned_texts = []\n",
    "\n",
    "for text in texts:\n",
    "    cleaned_text = re.sub('<[^<]+>', \"\", text)\n",
    "    cleaned_texts.append(cleaned_text)"
   ]
  },
  {
   "cell_type": "markdown",
   "id": "ee7fd703-82db-4f7e-b904-51d9061b0b2d",
   "metadata": {},
   "source": [
    "## save cleaned texts to new directories"
   ]
  },
  {
   "cell_type": "code",
   "execution_count": 70,
   "id": "592cb22d-0214-402b-8ef1-b0fe88410312",
   "metadata": {},
   "outputs": [],
   "source": [
    "path = \"corpora/corpus_drama/\"\n",
    "\n",
    "for i in range(len(cleaned_texts)):\n",
    "    with open(path + meta[\"file\"].iloc[i] + \".xml\", 'w', encoding=\"utf8\") as f:\n",
    "            f.write(cleaned_texts[i])\n",
    "            f.close()"
   ]
  },
  {
   "cell_type": "markdown",
   "id": "d6943c23-7449-40b3-8af0-2bad63325b07",
   "metadata": {},
   "source": [
    "## split by period"
   ]
  },
  {
   "cell_type": "code",
   "execution_count": 75,
   "id": "a6d09c4c-898b-494d-ba41-199a3c94ccf1",
   "metadata": {},
   "outputs": [],
   "source": [
    "import shutil\n",
    "\n",
    "def copy_files(array, src, dest):\n",
    "    for file in array:\n",
    "        shutil.copy(src + file + \".xml\", dest + file + \".xml\")"
   ]
  },
  {
   "cell_type": "code",
   "execution_count": 77,
   "id": "0d65784c-0376-45cb-8a1c-a375253a52e8",
   "metadata": {},
   "outputs": [],
   "source": [
    "df = meta.loc[(meta[\"genre\"] == \"drama\") & (meta[\"period\"] == \"Kunstepoche\")]\n",
    "files = df[\"file\"].values"
   ]
  },
  {
   "cell_type": "code",
   "execution_count": 78,
   "id": "f9c6d59d-3433-40c6-9350-1e3f716237f0",
   "metadata": {},
   "outputs": [],
   "source": [
    "copy_files(files, \"corpora/corpus_drama/\", \"corpora/corpus_drama_kunstepoche/\")"
   ]
  }
 ],
 "metadata": {
  "kernelspec": {
   "display_name": "Python 3 (ipykernel)",
   "language": "python",
   "name": "python3"
  },
  "language_info": {
   "codemirror_mode": {
    "name": "ipython",
    "version": 3
   },
   "file_extension": ".py",
   "mimetype": "text/x-python",
   "name": "python",
   "nbconvert_exporter": "python",
   "pygments_lexer": "ipython3",
   "version": "3.9.13"
  }
 },
 "nbformat": 4,
 "nbformat_minor": 5
}
