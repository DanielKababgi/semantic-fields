{
 "cells": [
  {
   "cell_type": "code",
   "execution_count": 1,
   "id": "0caae811-b41f-4b8f-9dac-0e278e8e60a3",
   "metadata": {},
   "outputs": [
    {
     "data": {
      "text/html": [
       "<div>\n",
       "<style scoped>\n",
       "    .dataframe tbody tr th:only-of-type {\n",
       "        vertical-align: middle;\n",
       "    }\n",
       "\n",
       "    .dataframe tbody tr th {\n",
       "        vertical-align: top;\n",
       "    }\n",
       "\n",
       "    .dataframe thead th {\n",
       "        text-align: right;\n",
       "    }\n",
       "</style>\n",
       "<table border=\"1\" class=\"dataframe\">\n",
       "  <thead>\n",
       "    <tr style=\"text-align: right;\">\n",
       "      <th></th>\n",
       "      <th>Unnamed: 0</th>\n",
       "      <th>id</th>\n",
       "      <th>author</th>\n",
       "      <th>title</th>\n",
       "      <th>year</th>\n",
       "      <th>filename</th>\n",
       "      <th>period</th>\n",
       "    </tr>\n",
       "  </thead>\n",
       "  <tbody>\n",
       "    <tr>\n",
       "      <th>0</th>\n",
       "      <td>0</td>\n",
       "      <td>1</td>\n",
       "      <td>Ebeling, Johann Justus</td>\n",
       "      <td>N.A.</td>\n",
       "      <td>1747</td>\n",
       "      <td>dta.poem.1.txt</td>\n",
       "      <td>Aufklaerung</td>\n",
       "    </tr>\n",
       "    <tr>\n",
       "      <th>1</th>\n",
       "      <td>1</td>\n",
       "      <td>2</td>\n",
       "      <td>Ebeling, Johann Justus</td>\n",
       "      <td>Der Sommer.</td>\n",
       "      <td>1747</td>\n",
       "      <td>dta.poem.2.txt</td>\n",
       "      <td>Aufklaerung</td>\n",
       "    </tr>\n",
       "    <tr>\n",
       "      <th>2</th>\n",
       "      <td>2</td>\n",
       "      <td>3</td>\n",
       "      <td>Ebeling, Johann Justus</td>\n",
       "      <td>Die mannigfaltige  \\n  Weisheit GOttes  \\n im ...</td>\n",
       "      <td>1747</td>\n",
       "      <td>dta.poem.3.txt</td>\n",
       "      <td>Aufklaerung</td>\n",
       "    </tr>\n",
       "    <tr>\n",
       "      <th>3</th>\n",
       "      <td>3</td>\n",
       "      <td>4</td>\n",
       "      <td>Ebeling, Johann Justus</td>\n",
       "      <td>Die  \\n  angenehme Morgenröthe  \\n Und  \\n  da...</td>\n",
       "      <td>1747</td>\n",
       "      <td>dta.poem.4.txt</td>\n",
       "      <td>Aufklaerung</td>\n",
       "    </tr>\n",
       "    <tr>\n",
       "      <th>4</th>\n",
       "      <td>4</td>\n",
       "      <td>5</td>\n",
       "      <td>Ebeling, Johann Justus</td>\n",
       "      <td>Anrede an den herrlichen GOtt  \\n um Abwendung...</td>\n",
       "      <td>1747</td>\n",
       "      <td>dta.poem.5.txt</td>\n",
       "      <td>Aufklaerung</td>\n",
       "    </tr>\n",
       "  </tbody>\n",
       "</table>\n",
       "</div>"
      ],
      "text/plain": [
       "   Unnamed: 0  id                  author  \\\n",
       "0           0   1  Ebeling, Johann Justus   \n",
       "1           1   2  Ebeling, Johann Justus   \n",
       "2           2   3  Ebeling, Johann Justus   \n",
       "3           3   4  Ebeling, Johann Justus   \n",
       "4           4   5  Ebeling, Johann Justus   \n",
       "\n",
       "                                               title  year        filename  \\\n",
       "0                                               N.A.  1747  dta.poem.1.txt   \n",
       "1                                        Der Sommer.  1747  dta.poem.2.txt   \n",
       "2  Die mannigfaltige  \\n  Weisheit GOttes  \\n im ...  1747  dta.poem.3.txt   \n",
       "3  Die  \\n  angenehme Morgenröthe  \\n Und  \\n  da...  1747  dta.poem.4.txt   \n",
       "4  Anrede an den herrlichen GOtt  \\n um Abwendung...  1747  dta.poem.5.txt   \n",
       "\n",
       "        period  \n",
       "0  Aufklaerung  \n",
       "1  Aufklaerung  \n",
       "2  Aufklaerung  \n",
       "3  Aufklaerung  \n",
       "4  Aufklaerung  "
      ]
     },
     "execution_count": 1,
     "metadata": {},
     "output_type": "execute_result"
    }
   ],
   "source": [
    "import pandas as pd\n",
    "\n",
    "meta = pd.read_csv(\"metadata_lyrik.csv\", encoding = \"utf-8\")\n",
    "meta.head()"
   ]
  },
  {
   "cell_type": "code",
   "execution_count": 4,
   "id": "c921d9ea-fb10-4b0b-9353-1eb1e897c380",
   "metadata": {},
   "outputs": [],
   "source": [
    "# load corpus\n",
    "\n",
    "def load_corpus(path):\n",
    "    from numpy import append \n",
    "\n",
    "    sentences = []\n",
    "    for filename in meta[\"filename\"]:\n",
    "        with open(path + filename, 'r', encoding=\"utf8\") as f:\n",
    "            sentences.append(f.read())\n",
    "            f.close()\n",
    "    return sentences"
   ]
  },
  {
   "cell_type": "code",
   "execution_count": 7,
   "id": "8037eb04-4845-4a3e-bba4-600233dcce5d",
   "metadata": {},
   "outputs": [
    {
     "name": "stdout",
     "output_type": "stream",
     "text": [
      "mein Trieb, der waget warlich\n",
      "Da ich mich untersteh der Andacht Saiten-\n",
      "Das meine Einfalt rührt, mit\n"
     ]
    }
   ],
   "source": [
    "texts = load_corpus(\"corpora/corpus_lyrik/\")\n",
    "print(texts[0][:100])"
   ]
  },
  {
   "cell_type": "markdown",
   "id": "5271129d-971a-4949-8e57-895229f31835",
   "metadata": {},
   "source": [
    "## split by period"
   ]
  },
  {
   "cell_type": "code",
   "execution_count": 12,
   "id": "87163535-0972-45ae-9a6e-3043da81fb74",
   "metadata": {},
   "outputs": [],
   "source": [
    "import shutil\n",
    "\n",
    "def copy_files(array, src, dest):\n",
    "    for file in array:\n",
    "        shutil.copy(src + file, dest + file)"
   ]
  },
  {
   "cell_type": "code",
   "execution_count": 10,
   "id": "bee7cbae-56ec-4bb2-949a-4496db60100c",
   "metadata": {},
   "outputs": [],
   "source": [
    "df = meta.loc[meta[\"period\"] == \"Kunstepoche\"]\n",
    "files = df[\"filename\"].values"
   ]
  },
  {
   "cell_type": "code",
   "execution_count": 13,
   "id": "f863356d-d8b5-4180-b3f3-8690e8747d93",
   "metadata": {},
   "outputs": [],
   "source": [
    "copy_files(files, \"corpora/corpus_lyrik/\", \"corpora/corpus_lyrik_kunstepoche/\")"
   ]
  },
  {
   "cell_type": "code",
   "execution_count": 14,
   "id": "d79bd89c-8d5d-4463-a6dd-d5cb27bbda8a",
   "metadata": {},
   "outputs": [],
   "source": [
    "df = meta.loc[meta[\"period\"] == \"Aufklaerung\"]\n",
    "files = df[\"filename\"].values"
   ]
  },
  {
   "cell_type": "code",
   "execution_count": 15,
   "id": "615ef17c-6ae1-4fff-9a56-41c8a868fb41",
   "metadata": {},
   "outputs": [],
   "source": [
    "copy_files(files, \"corpora/corpus_lyrik/\", \"corpora/corpus_lyrik_aufklaerung/\")"
   ]
  }
 ],
 "metadata": {
  "kernelspec": {
   "display_name": "Python 3 (ipykernel)",
   "language": "python",
   "name": "python3"
  },
  "language_info": {
   "codemirror_mode": {
    "name": "ipython",
    "version": 3
   },
   "file_extension": ".py",
   "mimetype": "text/x-python",
   "name": "python",
   "nbconvert_exporter": "python",
   "pygments_lexer": "ipython3",
   "version": "3.9.13"
  }
 },
 "nbformat": 4,
 "nbformat_minor": 5
}
