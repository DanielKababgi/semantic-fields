{
 "cells": [
  {
   "cell_type": "markdown",
   "id": "6b1e3b9d-ec81-485f-b0fe-528aecb1e797",
   "metadata": {},
   "source": [
    "# Corpuspreparation\n",
    "\n",
    "To-Do:\n",
    "- load metadata\n",
    "- check for duplicates or errors in filenames\n",
    "- clean strings from \\* and \\[xyz\\] and \\<xml\\>-stuff \n",
    "- copy cleaned strings to new directories\n",
    "    -> corpus_\\[genre\\]_\\[period\\]\n",
    "    \n",
    "## load metadata"
   ]
  },
  {
   "cell_type": "code",
   "execution_count": 26,
   "id": "f6acc75d-2815-4ce5-9329-6ab22dba3f3a",
   "metadata": {},
   "outputs": [
    {
     "data": {
      "text/html": [
       "<div>\n",
       "<style scoped>\n",
       "    .dataframe tbody tr th:only-of-type {\n",
       "        vertical-align: middle;\n",
       "    }\n",
       "\n",
       "    .dataframe tbody tr th {\n",
       "        vertical-align: top;\n",
       "    }\n",
       "\n",
       "    .dataframe thead th {\n",
       "        text-align: right;\n",
       "    }\n",
       "</style>\n",
       "<table border=\"1\" class=\"dataframe\">\n",
       "  <thead>\n",
       "    <tr style=\"text-align: right;\">\n",
       "      <th></th>\n",
       "      <th>id</th>\n",
       "      <th>title</th>\n",
       "      <th>author</th>\n",
       "      <th>period</th>\n",
       "      <th>type</th>\n",
       "      <th>genre</th>\n",
       "      <th>date</th>\n",
       "      <th>file</th>\n",
       "      <th>source</th>\n",
       "      <th>annotation</th>\n",
       "    </tr>\n",
       "  </thead>\n",
       "  <tbody>\n",
       "    <tr>\n",
       "      <th>0</th>\n",
       "      <td>1</td>\n",
       "      <td>Die deutsche Gelehrtenrepublik</td>\n",
       "      <td>Klopstock</td>\n",
       "      <td>Aufklaerung</td>\n",
       "      <td>Satire</td>\n",
       "      <td>epic</td>\n",
       "      <td>1774.0</td>\n",
       "      <td>Klopstock_Gelehrtenrepublik.txt</td>\n",
       "      <td>http://www.literatur-live.de/salon/klopst_0.html</td>\n",
       "      <td>NaN</td>\n",
       "    </tr>\n",
       "    <tr>\n",
       "      <th>1</th>\n",
       "      <td>2</td>\n",
       "      <td>Die Leiden des jungen Werthers</td>\n",
       "      <td>Goethe</td>\n",
       "      <td>Aufklaerung</td>\n",
       "      <td>Roman</td>\n",
       "      <td>epic</td>\n",
       "      <td>1774.0</td>\n",
       "      <td>Goethe_Werther.txt</td>\n",
       "      <td>https://www.projekt-gutenberg.org/goethe/werth...</td>\n",
       "      <td>Sturm und Drang</td>\n",
       "    </tr>\n",
       "    <tr>\n",
       "      <th>2</th>\n",
       "      <td>3</td>\n",
       "      <td>Der Sieg der Natur über die Schwärmerei oder d...</td>\n",
       "      <td>Wieland</td>\n",
       "      <td>Aufklaerung</td>\n",
       "      <td>Roman</td>\n",
       "      <td>epic</td>\n",
       "      <td>1764.0</td>\n",
       "      <td>Wieland_DonSylvio.txt</td>\n",
       "      <td>http://www.zeno.org/Literatur/M/Wieland,+Chris...</td>\n",
       "      <td>NaN</td>\n",
       "    </tr>\n",
       "    <tr>\n",
       "      <th>3</th>\n",
       "      <td>4</td>\n",
       "      <td>Geschichten des Agathon</td>\n",
       "      <td>Wieland</td>\n",
       "      <td>Aufklaerung</td>\n",
       "      <td>Roman</td>\n",
       "      <td>epic</td>\n",
       "      <td>1766.0</td>\n",
       "      <td>Wieland_Agathon.txt</td>\n",
       "      <td>https://www.projekt-gutenberg.org/wieland/agat...</td>\n",
       "      <td>NaN</td>\n",
       "    </tr>\n",
       "    <tr>\n",
       "      <th>4</th>\n",
       "      <td>5</td>\n",
       "      <td>Der goldne Spiegel oder die Könige von Scheschian</td>\n",
       "      <td>Wieland</td>\n",
       "      <td>Aufklaerung</td>\n",
       "      <td>Roman</td>\n",
       "      <td>epic</td>\n",
       "      <td>1772.0</td>\n",
       "      <td>Wieland_GoldneSpiegel.txt</td>\n",
       "      <td>https://www.projekt-gutenberg.org/wieland/spie...</td>\n",
       "      <td>NaN</td>\n",
       "    </tr>\n",
       "  </tbody>\n",
       "</table>\n",
       "</div>"
      ],
      "text/plain": [
       "   id                                              title     author  \\\n",
       "0   1                     Die deutsche Gelehrtenrepublik  Klopstock   \n",
       "1   2                     Die Leiden des jungen Werthers     Goethe   \n",
       "2   3  Der Sieg der Natur über die Schwärmerei oder d...    Wieland   \n",
       "3   4                            Geschichten des Agathon    Wieland   \n",
       "4   5  Der goldne Spiegel oder die Könige von Scheschian    Wieland   \n",
       "\n",
       "        period    type genre    date                             file  \\\n",
       "0  Aufklaerung  Satire  epic  1774.0  Klopstock_Gelehrtenrepublik.txt   \n",
       "1  Aufklaerung   Roman  epic  1774.0               Goethe_Werther.txt   \n",
       "2  Aufklaerung   Roman  epic  1764.0            Wieland_DonSylvio.txt   \n",
       "3  Aufklaerung   Roman  epic  1766.0              Wieland_Agathon.txt   \n",
       "4  Aufklaerung   Roman  epic  1772.0        Wieland_GoldneSpiegel.txt   \n",
       "\n",
       "                                              source       annotation  \n",
       "0   http://www.literatur-live.de/salon/klopst_0.html              NaN  \n",
       "1  https://www.projekt-gutenberg.org/goethe/werth...  Sturm und Drang  \n",
       "2  http://www.zeno.org/Literatur/M/Wieland,+Chris...              NaN  \n",
       "3  https://www.projekt-gutenberg.org/wieland/agat...              NaN  \n",
       "4  https://www.projekt-gutenberg.org/wieland/spie...              NaN  "
      ]
     },
     "execution_count": 26,
     "metadata": {},
     "output_type": "execute_result"
    }
   ],
   "source": [
    "import pandas as pd\n",
    "\n",
    "meta = pd.read_csv(\"metadata_epic.csv\", encoding = \"utf-8\")\n",
    "meta.head()"
   ]
  },
  {
   "cell_type": "markdown",
   "id": "2c11e893-2844-4cf9-b99c-485830c4d529",
   "metadata": {},
   "source": [
    "## check for duplicates and errors in filenames"
   ]
  },
  {
   "cell_type": "code",
   "execution_count": 27,
   "id": "c2ca55ff-d9d9-4125-a1e0-9cd7e63fde89",
   "metadata": {},
   "outputs": [
    {
     "data": {
      "text/plain": [
       "'Klopstock_Gelehrtenrepublik.txt'"
      ]
     },
     "execution_count": 27,
     "metadata": {},
     "output_type": "execute_result"
    }
   ],
   "source": [
    "df = meta.loc[meta[\"genre\"]==\"epic\"]\n",
    "filenames_table = df[\"file\"].values\n",
    "filenames_table[0]"
   ]
  },
  {
   "cell_type": "code",
   "execution_count": 28,
   "id": "d3d7caa6-5c70-4e98-87cd-fc7a32c4a51b",
   "metadata": {},
   "outputs": [
    {
     "data": {
      "text/plain": [
       "'Arnim_DasLebenDerHochgraefin.txt'"
      ]
     },
     "execution_count": 28,
     "metadata": {},
     "output_type": "execute_result"
    }
   ],
   "source": [
    "from os import listdir\n",
    "\n",
    "listdir(\"data\")[0]"
   ]
  },
  {
   "cell_type": "code",
   "execution_count": 29,
   "id": "a85673f2-6dd6-4d3b-8937-4af1a7f7e079",
   "metadata": {},
   "outputs": [],
   "source": [
    "for name in listdir(\"data\"):\n",
    "    if not name in filenames_table:\n",
    "        print(name)"
   ]
  },
  {
   "cell_type": "markdown",
   "id": "0b960f21-48ef-4332-a90c-1d105a395a4e",
   "metadata": {},
   "source": [
    "No errors\n",
    "\n",
    "## clean strings\n",
    "\n",
    "steps:\n",
    "- load files into array\n",
    "- brief cleaning of \\* and \\[xyz\\] and \\<xml\\>-stuff "
   ]
  },
  {
   "cell_type": "code",
   "execution_count": 30,
   "id": "36974d4a-6b8a-4774-bc8b-53036e53eeb3",
   "metadata": {},
   "outputs": [],
   "source": [
    "# load corpus\n",
    "\n",
    "def load_corpus(path):\n",
    "    from numpy import append \n",
    "\n",
    "    sentences = []\n",
    "    for filename in meta[\"file\"]:\n",
    "        with open(path + filename, 'r', encoding=\"utf8\") as f:\n",
    "            sentences.append(f.read())\n",
    "            f.close()\n",
    "    return sentences"
   ]
  },
  {
   "cell_type": "code",
   "execution_count": 37,
   "id": "f6ffdc11-3dd9-4f41-a3a7-dec2460b00bb",
   "metadata": {},
   "outputs": [
    {
     "name": "stdout",
     "output_type": "stream",
     "text": [
      "﻿Friedrich Gottlieb Klopstock\n",
      "Die deutsche Gelehrtenrepublik.\n",
      "Teil 1 :\n",
      "Einrichtung der Republik  -  \n"
     ]
    }
   ],
   "source": [
    "texts = load_corpus(\"data/\")\n",
    "print(texts[0][:100])"
   ]
  },
  {
   "cell_type": "code",
   "execution_count": 35,
   "id": "780c531b-e1e3-46f7-b240-6e404a23c4a2",
   "metadata": {},
   "outputs": [
    {
     "name": "stdout",
     "output_type": "stream",
     "text": [
      "0\n",
      "1\n",
      "2\n",
      "3\n",
      "4\n",
      "5\n",
      "6\n",
      "7\n",
      "8\n",
      "9\n",
      "rest\n"
     ]
    }
   ],
   "source": [
    "import numpy as np\n",
    "import pandas as pd\n",
    "import re\n",
    "\n",
    "\n",
    "k = 10\n",
    "num_samples = len(texts) // k\n",
    "\n",
    "df = pd.DataFrame(texts)\n",
    "\n",
    "txt = []\n",
    "\n",
    "for i in range(k):\n",
    "    print(i)\n",
    "\n",
    "    text_batch = df[num_samples * i: num_samples * (i+1)]\n",
    "    brief_cleaning = (re.sub(\"[^A-ZÖÜÄa-zöüäß.?!']+\", ' ', str(row)).lower() for row in text_batch)\n",
    "    txt.append(brief_cleaning)\n",
    "\n",
    "if len(txt) != len(df):\n",
    "    print(\"rest\")\n",
    "    text_batch = df[len(txt): ]\n",
    "    brief_cleaning = (re.sub(\"[^A-ZÖÜÄa-zöüäß.?!']+\", ' ', str(row)).lower() for row in text_batch)\n",
    "    \n",
    "    \n",
    "txt.append(brief_cleaning)\n"
   ]
  },
  {
   "cell_type": "code",
   "execution_count": 36,
   "id": "3d4e4bed-09ab-4c8e-b4a0-910115cd6018",
   "metadata": {},
   "outputs": [
    {
     "data": {
      "text/plain": [
       "<generator object <genexpr> at 0x000001FD8EAFD660>"
      ]
     },
     "execution_count": 36,
     "metadata": {},
     "output_type": "execute_result"
    }
   ],
   "source": [
    "txt[0]"
   ]
  },
  {
   "cell_type": "code",
   "execution_count": 5,
   "id": "a6d09c4c-898b-494d-ba41-199a3c94ccf1",
   "metadata": {},
   "outputs": [],
   "source": [
    "import shutil\n",
    "\n",
    "def copy_files(array, src, dest):\n",
    "    for file in array:\n",
    "        shutil.copy(src + file, dest + file)"
   ]
  },
  {
   "cell_type": "code",
   "execution_count": 8,
   "id": "0d65784c-0376-45cb-8a1c-a375253a52e8",
   "metadata": {},
   "outputs": [],
   "source": [
    "df = meta.loc[(meta[\"genre\"] == \"epic\") & (meta[\"period\"] == \"Aufklaerung\")]\n",
    "files = df[\"file\"].values"
   ]
  },
  {
   "cell_type": "code",
   "execution_count": 9,
   "id": "f9c6d59d-3433-40c6-9350-1e3f716237f0",
   "metadata": {},
   "outputs": [],
   "source": [
    "copy_files(files, \"data/\", \"corpora/corpus_roman_aufklaerung/\")"
   ]
  }
 ],
 "metadata": {
  "kernelspec": {
   "display_name": "Python 3 (ipykernel)",
   "language": "python",
   "name": "python3"
  },
  "language_info": {
   "codemirror_mode": {
    "name": "ipython",
    "version": 3
   },
   "file_extension": ".py",
   "mimetype": "text/x-python",
   "name": "python",
   "nbconvert_exporter": "python",
   "pygments_lexer": "ipython3",
   "version": "3.9.7"
  }
 },
 "nbformat": 4,
 "nbformat_minor": 5
}
