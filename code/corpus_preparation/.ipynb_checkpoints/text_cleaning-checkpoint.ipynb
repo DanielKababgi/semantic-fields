{
 "cells": [
  {
   "cell_type": "markdown",
   "id": "dd0ea8d8-faef-4de7-bc72-40d104019994",
   "metadata": {},
   "source": [
    "# Text cleaning\n",
    "\n",
    "Wir müssen unsere Texte noch säubern:\n",
    "- Stopwords\n",
    "- Lemmatisierung\n",
    "- Namen müssen raus\n",
    "\n",
    "## Steps\n",
    "\n",
    "- Lade Texte und Metadaten\n",
    "- Lemmatisiere Texte\n",
    "    - speicher diese Texte in Ordner ab\n",
    "- Bereinige bereinigte Texte von Namen\n",
    "    - speicher die Texte in weiterem Ordner ab\n",
    "    \n",
    "### Lade Texte und Metadaten"
   ]
  },
  {
   "cell_type": "code",
   "execution_count": 1,
   "id": "e1cb39fc-22cf-4cba-8c42-28a11a8d77a9",
   "metadata": {},
   "outputs": [
    {
     "data": {
      "text/html": [
       "<div>\n",
       "<style scoped>\n",
       "    .dataframe tbody tr th:only-of-type {\n",
       "        vertical-align: middle;\n",
       "    }\n",
       "\n",
       "    .dataframe tbody tr th {\n",
       "        vertical-align: top;\n",
       "    }\n",
       "\n",
       "    .dataframe thead th {\n",
       "        text-align: right;\n",
       "    }\n",
       "</style>\n",
       "<table border=\"1\" class=\"dataframe\">\n",
       "  <thead>\n",
       "    <tr style=\"text-align: right;\">\n",
       "      <th></th>\n",
       "      <th>id</th>\n",
       "      <th>author</th>\n",
       "      <th>title</th>\n",
       "      <th>genre</th>\n",
       "      <th>date</th>\n",
       "      <th>file</th>\n",
       "      <th>period</th>\n",
       "    </tr>\n",
       "  </thead>\n",
       "  <tbody>\n",
       "    <tr>\n",
       "      <th>0</th>\n",
       "      <td>1</td>\n",
       "      <td>Ebeling, Johann Justus</td>\n",
       "      <td>N.A.</td>\n",
       "      <td>lyrik</td>\n",
       "      <td>1747</td>\n",
       "      <td>dta.poem.1.txt</td>\n",
       "      <td>Aufklaerung</td>\n",
       "    </tr>\n",
       "    <tr>\n",
       "      <th>1</th>\n",
       "      <td>2</td>\n",
       "      <td>Ebeling, Johann Justus</td>\n",
       "      <td>Der Sommer.</td>\n",
       "      <td>lyrik</td>\n",
       "      <td>1747</td>\n",
       "      <td>dta.poem.2.txt</td>\n",
       "      <td>Aufklaerung</td>\n",
       "    </tr>\n",
       "    <tr>\n",
       "      <th>2</th>\n",
       "      <td>3</td>\n",
       "      <td>Ebeling, Johann Justus</td>\n",
       "      <td>Die mannigfaltige  \\n  Weisheit GOttes  \\n im ...</td>\n",
       "      <td>lyrik</td>\n",
       "      <td>1747</td>\n",
       "      <td>dta.poem.3.txt</td>\n",
       "      <td>Aufklaerung</td>\n",
       "    </tr>\n",
       "    <tr>\n",
       "      <th>3</th>\n",
       "      <td>4</td>\n",
       "      <td>Ebeling, Johann Justus</td>\n",
       "      <td>Die  \\n  angenehme Morgenröthe  \\n Und  \\n  da...</td>\n",
       "      <td>lyrik</td>\n",
       "      <td>1747</td>\n",
       "      <td>dta.poem.4.txt</td>\n",
       "      <td>Aufklaerung</td>\n",
       "    </tr>\n",
       "    <tr>\n",
       "      <th>4</th>\n",
       "      <td>5</td>\n",
       "      <td>Ebeling, Johann Justus</td>\n",
       "      <td>Anrede an den herrlichen GOtt  \\n um Abwendung...</td>\n",
       "      <td>lyrik</td>\n",
       "      <td>1747</td>\n",
       "      <td>dta.poem.5.txt</td>\n",
       "      <td>Aufklaerung</td>\n",
       "    </tr>\n",
       "  </tbody>\n",
       "</table>\n",
       "</div>"
      ],
      "text/plain": [
       "   id                  author  \\\n",
       "0   1  Ebeling, Johann Justus   \n",
       "1   2  Ebeling, Johann Justus   \n",
       "2   3  Ebeling, Johann Justus   \n",
       "3   4  Ebeling, Johann Justus   \n",
       "4   5  Ebeling, Johann Justus   \n",
       "\n",
       "                                               title  genre  date  \\\n",
       "0                                               N.A.  lyrik  1747   \n",
       "1                                        Der Sommer.  lyrik  1747   \n",
       "2  Die mannigfaltige  \\n  Weisheit GOttes  \\n im ...  lyrik  1747   \n",
       "3  Die  \\n  angenehme Morgenröthe  \\n Und  \\n  da...  lyrik  1747   \n",
       "4  Anrede an den herrlichen GOtt  \\n um Abwendung...  lyrik  1747   \n",
       "\n",
       "             file       period  \n",
       "0  dta.poem.1.txt  Aufklaerung  \n",
       "1  dta.poem.2.txt  Aufklaerung  \n",
       "2  dta.poem.3.txt  Aufklaerung  \n",
       "3  dta.poem.4.txt  Aufklaerung  \n",
       "4  dta.poem.5.txt  Aufklaerung  "
      ]
     },
     "execution_count": 1,
     "metadata": {},
     "output_type": "execute_result"
    }
   ],
   "source": [
    "import pandas as pd\n",
    "\n",
    "meta = pd.read_csv(\"metadata_lyrik.csv\", encoding = \"utf-8\")\n",
    "meta.head()"
   ]
  },
  {
   "cell_type": "code",
   "execution_count": 2,
   "id": "c46a2ec7-1f0b-45c0-a705-8d914a8df94b",
   "metadata": {},
   "outputs": [],
   "source": [
    "# load corpus\n",
    "\n",
    "def load_corpus(path):\n",
    "    from numpy import append \n",
    "\n",
    "    sentences = []\n",
    "    for filename in meta[\"file\"]:\n",
    "        with open(path + filename, 'r', encoding=\"utf8\") as f:\n",
    "            sentences.append(f.read())\n",
    "            f.close()\n",
    "    return sentences"
   ]
  },
  {
   "cell_type": "code",
   "execution_count": 3,
   "id": "c4655931-e36a-406a-ac82-32311d26d3d9",
   "metadata": {},
   "outputs": [],
   "source": [
    "texts = load_corpus(\"corpora/raw/corpus_lyrik/\")"
   ]
  },
  {
   "cell_type": "code",
   "execution_count": 4,
   "id": "da0449b7-53d9-4f52-8add-f81c0765cdad",
   "metadata": {},
   "outputs": [
    {
     "data": {
      "text/plain": [
       "'mein Trieb, der waget warlich\\nDa ich mich untersteh der Andacht Saiten-\\nDas meine Einfalt rührt, mit'"
      ]
     },
     "execution_count": 4,
     "metadata": {},
     "output_type": "execute_result"
    }
   ],
   "source": [
    "texts[0][:100]"
   ]
  },
  {
   "cell_type": "code",
   "execution_count": 5,
   "id": "0ca75f45-da28-4cc7-bdd6-8f6c2ae64d89",
   "metadata": {},
   "outputs": [],
   "source": [
    "import spacy\n",
    "\n",
    "nlp = spacy.load(\"de_core_news_lg\", disable=['ner', 'parser']) \n",
    "nlp.max_length = 3000000\n",
    "\n",
    "def cleaning(doc):\n",
    "    txt = [token.lemma_ for token in doc]\n",
    "    return ' '.join(txt)"
   ]
  },
  {
   "cell_type": "code",
   "execution_count": 6,
   "id": "a09bfa91-5653-4b1b-8999-9d71bba84214",
   "metadata": {},
   "outputs": [],
   "source": [
    "import pandas as pd\n",
    "\n",
    "df = pd.DataFrame(texts)"
   ]
  },
  {
   "cell_type": "code",
   "execution_count": 7,
   "id": "01bfdacf-ba95-45ab-8259-f96cc8f5c8d0",
   "metadata": {},
   "outputs": [
    {
     "name": "stdout",
     "output_type": "stream",
     "text": [
      "0\n",
      "1\n",
      "2\n",
      "3\n",
      "4\n",
      "5\n",
      "6\n",
      "7\n",
      "8\n",
      "9\n",
      "rest\n"
     ]
    }
   ],
   "source": [
    "import numpy as np\n",
    "import re\n",
    "k = 10\n",
    "num_samples = len(df) // k\n",
    "\n",
    "txt = []\n",
    "\n",
    "for i in range(k):\n",
    "    print(i)\n",
    "\n",
    "    text_batch = df[num_samples * i: num_samples * (i+1)]\n",
    "    brief_cleaning = (re.sub(\"[^A-ZÄÜÖa-zäüöß?!.']+\", ' ', str(row)).lower() for row in text_batch[0])\n",
    "    txt = np.concatenate((txt, [cleaning(doc) for doc in nlp.pipe(brief_cleaning, batch_size=5000)]))\n",
    "\n",
    "if len(txt) != len(df):\n",
    "    print(\"rest\")\n",
    "    text_batch = df[len(txt): ]\n",
    "    brief_cleaning = (re.sub(\"[^A-ZÄÜÖa-zäüöß?!.']+\", ' ', str(row)).lower() for row in text_batch[0])\n",
    "    txt = np.concatenate((txt, [cleaning(doc) for doc in nlp.pipe(brief_cleaning, batch_size=5000)]))"
   ]
  },
  {
   "cell_type": "code",
   "execution_count": 8,
   "id": "56c35470-75da-4923-a989-2f4ab8eedb89",
   "metadata": {},
   "outputs": [
    {
     "data": {
      "text/plain": [
       "'mein treiben der Waget Warlich da ich sich Untersteh der Andacht saiten der mein Einfalt rühren mit '"
      ]
     },
     "execution_count": 8,
     "metadata": {},
     "output_type": "execute_result"
    }
   ],
   "source": [
    "txt[0][:100]"
   ]
  },
  {
   "cell_type": "code",
   "execution_count": 9,
   "id": "67559425-e0d0-48d8-9c6a-0bbaf095c075",
   "metadata": {},
   "outputs": [],
   "source": [
    "def remove_files(path):\n",
    "    import os\n",
    "    for file_name in os.listdir(path):\n",
    "        # construct full file path\n",
    "        file = path + file_name\n",
    "        if os.path.isfile(file):\n",
    "            os.remove(file)"
   ]
  },
  {
   "cell_type": "code",
   "execution_count": 10,
   "id": "a331c141-7c6a-4b34-90aa-27ae0abc6627",
   "metadata": {},
   "outputs": [],
   "source": [
    "path = \"corpora/cleaned/corpus_lyrik/\"\n",
    "\n",
    "remove_files(path)\n",
    "\n",
    "# write lemmatized texts to files\n",
    "for i in range(len(txt)):\n",
    "    with open(path + meta[\"file\"].iloc[i], 'w', encoding=\"utf8\") as f:\n",
    "            f.write(txt[i])\n",
    "            f.close()"
   ]
  },
  {
   "cell_type": "code",
   "execution_count": 11,
   "id": "0dd6d5b5-3582-43c9-924e-55df74fc49c6",
   "metadata": {},
   "outputs": [],
   "source": [
    "import shutil\n",
    "\n",
    "def copy_files(array, src, dest):\n",
    "    for file in array:\n",
    "        shutil.copy(src + file, dest + file)"
   ]
  },
  {
   "cell_type": "code",
   "execution_count": 12,
   "id": "1d7b60f5-fc78-424f-9fbf-74dda4950f78",
   "metadata": {},
   "outputs": [],
   "source": [
    "df = meta.loc[meta[\"period\"] == \"Kunstepoche\"]\n",
    "files = df[\"file\"].values"
   ]
  },
  {
   "cell_type": "code",
   "execution_count": 13,
   "id": "08208bcb-5590-418b-a460-f1b7062e27ea",
   "metadata": {},
   "outputs": [],
   "source": [
    "remove_files(\"corpora/cleaned/corpus_lyrik_kunstepoche/\")\n",
    "copy_files(files, \"corpora/cleaned/corpus_lyrik/\", \"corpora/cleaned/corpus_lyrik_kunstepoche/\")"
   ]
  },
  {
   "cell_type": "code",
   "execution_count": 14,
   "id": "75dbaa8a-b341-4885-a693-60bd4f15df39",
   "metadata": {},
   "outputs": [],
   "source": [
    "df = meta.loc[meta[\"period\"] == \"Aufklaerung\"]\n",
    "files = df[\"file\"].values"
   ]
  },
  {
   "cell_type": "code",
   "execution_count": 15,
   "id": "80231819-bd0b-425f-aa1b-bfb0d3587ce5",
   "metadata": {},
   "outputs": [],
   "source": [
    "remove_files(\"corpora/cleaned/corpus_lyrik_aufklaerung/\")\n",
    "copy_files(files, \"corpora/cleaned/corpus_lyrik/\", \"corpora/cleaned/corpus_lyrik_aufklaerung/\")"
   ]
  },
  {
   "cell_type": "code",
   "execution_count": null,
   "id": "37194c10-f909-4f13-a3a5-c8d57a57a004",
   "metadata": {},
   "outputs": [],
   "source": []
  }
 ],
 "metadata": {
  "kernelspec": {
   "display_name": "Python 3 (ipykernel)",
   "language": "python",
   "name": "python3"
  },
  "language_info": {
   "codemirror_mode": {
    "name": "ipython",
    "version": 3
   },
   "file_extension": ".py",
   "mimetype": "text/x-python",
   "name": "python",
   "nbconvert_exporter": "python",
   "pygments_lexer": "ipython3",
   "version": "3.9.7"
  }
 },
 "nbformat": 4,
 "nbformat_minor": 5
}
