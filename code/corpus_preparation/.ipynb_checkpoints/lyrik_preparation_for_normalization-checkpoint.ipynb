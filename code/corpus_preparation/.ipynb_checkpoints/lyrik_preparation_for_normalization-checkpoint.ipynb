{
 "cells": [
  {
   "cell_type": "markdown",
   "id": "0594762d-4994-4f85-ab04-8317255d69a0",
   "metadata": {},
   "source": [
    "#  Zeta Preparation - one file per author\n",
    "## load metadata"
   ]
  },
  {
   "cell_type": "code",
   "execution_count": 1,
   "id": "72deadb5-6c11-4dec-b058-d4cf1cdf2bde",
   "metadata": {},
   "outputs": [
    {
     "data": {
      "text/html": [
       "<div>\n",
       "<style scoped>\n",
       "    .dataframe tbody tr th:only-of-type {\n",
       "        vertical-align: middle;\n",
       "    }\n",
       "\n",
       "    .dataframe tbody tr th {\n",
       "        vertical-align: top;\n",
       "    }\n",
       "\n",
       "    .dataframe thead th {\n",
       "        text-align: right;\n",
       "    }\n",
       "</style>\n",
       "<table border=\"1\" class=\"dataframe\">\n",
       "  <thead>\n",
       "    <tr style=\"text-align: right;\">\n",
       "      <th></th>\n",
       "      <th>Unnamed: 0</th>\n",
       "      <th>id</th>\n",
       "      <th>title</th>\n",
       "      <th>author</th>\n",
       "      <th>period</th>\n",
       "      <th>type</th>\n",
       "      <th>genre</th>\n",
       "      <th>date</th>\n",
       "      <th>file</th>\n",
       "      <th>source</th>\n",
       "      <th>annotation</th>\n",
       "      <th>tokens_cleaned</th>\n",
       "    </tr>\n",
       "  </thead>\n",
       "  <tbody>\n",
       "    <tr>\n",
       "      <th>0</th>\n",
       "      <td>0</td>\n",
       "      <td>1</td>\n",
       "      <td>Die deutsche Gelehrtenrepublik</td>\n",
       "      <td>Klopstock</td>\n",
       "      <td>Aufklaerung</td>\n",
       "      <td>Satire</td>\n",
       "      <td>epik</td>\n",
       "      <td>1774.0</td>\n",
       "      <td>Klopstock_Gelehrtenrepublik.txt</td>\n",
       "      <td>http://www.literatur-live.de/salon/klopst_0.html</td>\n",
       "      <td>NaN</td>\n",
       "      <td>83702</td>\n",
       "    </tr>\n",
       "    <tr>\n",
       "      <th>1</th>\n",
       "      <td>1</td>\n",
       "      <td>2</td>\n",
       "      <td>Die Leiden des jungen Werthers</td>\n",
       "      <td>Goethe</td>\n",
       "      <td>Aufklaerung</td>\n",
       "      <td>Roman</td>\n",
       "      <td>epik</td>\n",
       "      <td>1774.0</td>\n",
       "      <td>Goethe_Werther.txt</td>\n",
       "      <td>https://www.projekt-gutenberg.org/goethe/werth...</td>\n",
       "      <td>Sturm und Drang</td>\n",
       "      <td>41869</td>\n",
       "    </tr>\n",
       "    <tr>\n",
       "      <th>2</th>\n",
       "      <td>2</td>\n",
       "      <td>3</td>\n",
       "      <td>Der Sieg der Natur über die Schwärmerei oder d...</td>\n",
       "      <td>Wieland</td>\n",
       "      <td>Aufklaerung</td>\n",
       "      <td>Roman</td>\n",
       "      <td>epik</td>\n",
       "      <td>1764.0</td>\n",
       "      <td>Wieland_DonSylvio.txt</td>\n",
       "      <td>http://www.zeno.org/Literatur/M/Wieland,+Chris...</td>\n",
       "      <td>NaN</td>\n",
       "      <td>130320</td>\n",
       "    </tr>\n",
       "    <tr>\n",
       "      <th>3</th>\n",
       "      <td>3</td>\n",
       "      <td>4</td>\n",
       "      <td>Geschichten des Agathon</td>\n",
       "      <td>Wieland</td>\n",
       "      <td>Aufklaerung</td>\n",
       "      <td>Roman</td>\n",
       "      <td>epik</td>\n",
       "      <td>1766.0</td>\n",
       "      <td>Wieland_Agathon.txt</td>\n",
       "      <td>https://www.projekt-gutenberg.org/wieland/agat...</td>\n",
       "      <td>NaN</td>\n",
       "      <td>167283</td>\n",
       "    </tr>\n",
       "    <tr>\n",
       "      <th>4</th>\n",
       "      <td>4</td>\n",
       "      <td>5</td>\n",
       "      <td>Der goldne Spiegel oder die Könige von Scheschian</td>\n",
       "      <td>Wieland</td>\n",
       "      <td>Aufklaerung</td>\n",
       "      <td>Roman</td>\n",
       "      <td>epik</td>\n",
       "      <td>1772.0</td>\n",
       "      <td>Wieland_GoldneSpiegel.txt</td>\n",
       "      <td>https://www.projekt-gutenberg.org/wieland/spie...</td>\n",
       "      <td>NaN</td>\n",
       "      <td>115350</td>\n",
       "    </tr>\n",
       "  </tbody>\n",
       "</table>\n",
       "</div>"
      ],
      "text/plain": [
       "   Unnamed: 0  id                                              title  \\\n",
       "0           0   1                     Die deutsche Gelehrtenrepublik   \n",
       "1           1   2                     Die Leiden des jungen Werthers   \n",
       "2           2   3  Der Sieg der Natur über die Schwärmerei oder d...   \n",
       "3           3   4                            Geschichten des Agathon   \n",
       "4           4   5  Der goldne Spiegel oder die Könige von Scheschian   \n",
       "\n",
       "      author       period    type genre    date  \\\n",
       "0  Klopstock  Aufklaerung  Satire  epik  1774.0   \n",
       "1     Goethe  Aufklaerung   Roman  epik  1774.0   \n",
       "2    Wieland  Aufklaerung   Roman  epik  1764.0   \n",
       "3    Wieland  Aufklaerung   Roman  epik  1766.0   \n",
       "4    Wieland  Aufklaerung   Roman  epik  1772.0   \n",
       "\n",
       "                              file  \\\n",
       "0  Klopstock_Gelehrtenrepublik.txt   \n",
       "1               Goethe_Werther.txt   \n",
       "2            Wieland_DonSylvio.txt   \n",
       "3              Wieland_Agathon.txt   \n",
       "4        Wieland_GoldneSpiegel.txt   \n",
       "\n",
       "                                              source       annotation  \\\n",
       "0   http://www.literatur-live.de/salon/klopst_0.html              NaN   \n",
       "1  https://www.projekt-gutenberg.org/goethe/werth...  Sturm und Drang   \n",
       "2  http://www.zeno.org/Literatur/M/Wieland,+Chris...              NaN   \n",
       "3  https://www.projekt-gutenberg.org/wieland/agat...              NaN   \n",
       "4  https://www.projekt-gutenberg.org/wieland/spie...              NaN   \n",
       "\n",
       "   tokens_cleaned  \n",
       "0           83702  \n",
       "1           41869  \n",
       "2          130320  \n",
       "3          167283  \n",
       "4          115350  "
      ]
     },
     "execution_count": 1,
     "metadata": {},
     "output_type": "execute_result"
    }
   ],
   "source": [
    "import pandas as pd\n",
    "\n",
    "meta = pd.read_csv(\"meta_epik.csv\", encoding = \"utf-8\")\n",
    "meta.head()"
   ]
  },
  {
   "cell_type": "markdown",
   "id": "2ded0302-1741-49bd-af38-463474507122",
   "metadata": {},
   "source": [
    "# remove files in dir"
   ]
  },
  {
   "cell_type": "code",
   "execution_count": 2,
   "id": "a2ae0093-ff66-4010-bbb7-a911b917aeb7",
   "metadata": {},
   "outputs": [],
   "source": [
    "import os\n",
    "\n",
    "paths = [\"Zeta/aufklaerung/\", \"Zeta/kunstepoche/\"]\n",
    "for path in paths:\n",
    "    for file_name in os.listdir(path):\n",
    "        # construct full file path\n",
    "        file = path + file_name\n",
    "        if os.path.isfile(file):\n",
    "            os.remove(file)"
   ]
  },
  {
   "cell_type": "markdown",
   "id": "92e79289-f377-40c9-9ad4-e52296f80eec",
   "metadata": {},
   "source": [
    "## get texts of one author"
   ]
  },
  {
   "cell_type": "code",
   "execution_count": 3,
   "id": "9dd94683-aafd-4108-8322-23c38f992283",
   "metadata": {},
   "outputs": [
    {
     "data": {
      "text/plain": [
       "37"
      ]
     },
     "execution_count": 3,
     "metadata": {},
     "output_type": "execute_result"
    }
   ],
   "source": [
    "len(meta[\"author\"].loc[meta[\"period\"]==\"Kunstepoche\"].unique())"
   ]
  },
  {
   "cell_type": "code",
   "execution_count": 4,
   "id": "03a68b30-6b98-419a-826e-694c9e3706ae",
   "metadata": {},
   "outputs": [
    {
     "data": {
      "text/plain": [
       "631765"
      ]
     },
     "execution_count": 4,
     "metadata": {},
     "output_type": "execute_result"
    }
   ],
   "source": [
    "sum(meta[\"tokens_cleaned\"].loc[meta[\"author\"]==\"Goethe\"])"
   ]
  },
  {
   "cell_type": "code",
   "execution_count": 5,
   "id": "059122d6-4754-4d6c-8176-20a41ff5cf61",
   "metadata": {},
   "outputs": [],
   "source": [
    "min_tokens_length = 5500"
   ]
  },
  {
   "cell_type": "code",
   "execution_count": 6,
   "id": "3415587c-1939-4ae3-9271-8a73bffb26e7",
   "metadata": {},
   "outputs": [
    {
     "name": "stdout",
     "output_type": "stream",
     "text": [
      "19\n"
     ]
    }
   ],
   "source": [
    "path = \"corpora/raw_normalized/corpus_epik/\"\n",
    "\n",
    "i = 0\n",
    "for author in meta[\"author\"].loc[meta[\"period\"]==\"Aufklaerung\"].unique():\n",
    "    if sum(meta[\"tokens_cleaned\"].loc[meta[\"author\"]==author]) >= min_tokens_length:\n",
    "        filenames = meta[\"file\"].loc[meta[\"author\"]==author]\n",
    "    \n",
    "        string = \"\"\n",
    "        for file in filenames:\n",
    "            with open(path + file, 'r', encoding=\"utf16\") as f:\n",
    "                string = string + f.read()\n",
    "                f.close()\n",
    "    \n",
    "        with open(\"Zeta/aufklaerung/\" + author + \".txt\", \"a\", encoding=\"utf-8\") as f:\n",
    "            f.write(string)\n",
    "        \n",
    "        i = i +1\n",
    "\n",
    "print(i)        "
   ]
  },
  {
   "cell_type": "code",
   "execution_count": 7,
   "id": "5801a8d0-8f5a-4963-9156-c9254a60e11b",
   "metadata": {},
   "outputs": [
    {
     "name": "stdout",
     "output_type": "stream",
     "text": [
      "37\n"
     ]
    }
   ],
   "source": [
    "path = \"corpora/raw_normalized/corpus_epik/\"\n",
    "\n",
    "i = 0\n",
    "for author in meta[\"author\"].loc[meta[\"period\"]==\"Kunstepoche\"].unique():\n",
    "    if sum(meta[\"tokens_cleaned\"].loc[meta[\"author\"]==author]) >= min_tokens_length:\n",
    "        filenames = meta[\"file\"].loc[meta[\"author\"]==author]\n",
    "    \n",
    "        string = \"\"\n",
    "        for file in filenames:\n",
    "            with open(path + file, 'r', encoding=\"utf16\") as f:\n",
    "                string = string + f.read()\n",
    "                f.close()\n",
    "    \n",
    "        with open(\"Zeta/kunstepoche/\" + author + \".txt\", \"a\", encoding=\"utf-8\") as f:\n",
    "            f.write(string)\n",
    "        \n",
    "        i=i+1\n",
    "        \n",
    "print(i)"
   ]
  }
 ],
 "metadata": {
  "kernelspec": {
   "display_name": "Python 3 (ipykernel)",
   "language": "python",
   "name": "python3"
  },
  "language_info": {
   "codemirror_mode": {
    "name": "ipython",
    "version": 3
   },
   "file_extension": ".py",
   "mimetype": "text/x-python",
   "name": "python",
   "nbconvert_exporter": "python",
   "pygments_lexer": "ipython3",
   "version": "3.9.13"
  }
 },
 "nbformat": 4,
 "nbformat_minor": 5
}
