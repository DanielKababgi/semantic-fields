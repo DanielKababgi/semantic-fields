{
 "cells": [
  {
   "cell_type": "markdown",
   "id": "74d6a815-afe1-4024-8ae9-de227fb4af3e",
   "metadata": {},
   "source": [
    "# Corpus preparation for drama corpus\n",
    "\n",
    "To-Do:\n",
    "- load metadata\n",
    "- clean strings from \\*  and zeno-stuff \n",
    "- write cleaned texts to new files\n",
    "- copy cleaned strings to new directories\n",
    "    -> corpus_\\[genre\\]_\\[period\\]\n",
    "    \n",
    "## load metadata"
   ]
  },
  {
   "cell_type": "code",
   "execution_count": 1,
   "id": "99ae4418-8697-4c82-8758-435fd7eba5d6",
   "metadata": {},
   "outputs": [
    {
     "data": {
      "text/html": [
       "<div>\n",
       "<style scoped>\n",
       "    .dataframe tbody tr th:only-of-type {\n",
       "        vertical-align: middle;\n",
       "    }\n",
       "\n",
       "    .dataframe tbody tr th {\n",
       "        vertical-align: top;\n",
       "    }\n",
       "\n",
       "    .dataframe thead th {\n",
       "        text-align: right;\n",
       "    }\n",
       "</style>\n",
       "<table border=\"1\" class=\"dataframe\">\n",
       "  <thead>\n",
       "    <tr style=\"text-align: right;\">\n",
       "      <th></th>\n",
       "      <th>id</th>\n",
       "      <th>title</th>\n",
       "      <th>author</th>\n",
       "      <th>period</th>\n",
       "      <th>type</th>\n",
       "      <th>genre</th>\n",
       "      <th>date</th>\n",
       "      <th>file</th>\n",
       "      <th>source</th>\n",
       "      <th>annotation</th>\n",
       "    </tr>\n",
       "  </thead>\n",
       "  <tbody>\n",
       "    <tr>\n",
       "      <th>0</th>\n",
       "      <td>1</td>\n",
       "      <td>Die deutsche Gelehrtenrepublik</td>\n",
       "      <td>Klopstock</td>\n",
       "      <td>Aufklaerung</td>\n",
       "      <td>Satire</td>\n",
       "      <td>epic</td>\n",
       "      <td>1774.0</td>\n",
       "      <td>Klopstock_Gelehrtenrepublik.txt</td>\n",
       "      <td>http://www.literatur-live.de/salon/klopst_0.html</td>\n",
       "      <td>NaN</td>\n",
       "    </tr>\n",
       "    <tr>\n",
       "      <th>1</th>\n",
       "      <td>2</td>\n",
       "      <td>Die Leiden des jungen Werthers</td>\n",
       "      <td>Goethe</td>\n",
       "      <td>Aufklaerung</td>\n",
       "      <td>Roman</td>\n",
       "      <td>epic</td>\n",
       "      <td>1774.0</td>\n",
       "      <td>Goethe_Werther.txt</td>\n",
       "      <td>https://www.projekt-gutenberg.org/goethe/werth...</td>\n",
       "      <td>Sturm und Drang</td>\n",
       "    </tr>\n",
       "    <tr>\n",
       "      <th>2</th>\n",
       "      <td>3</td>\n",
       "      <td>Der Sieg der Natur über die Schwärmerei oder d...</td>\n",
       "      <td>Wieland</td>\n",
       "      <td>Aufklaerung</td>\n",
       "      <td>Roman</td>\n",
       "      <td>epic</td>\n",
       "      <td>1764.0</td>\n",
       "      <td>Wieland_DonSylvio.txt</td>\n",
       "      <td>http://www.zeno.org/Literatur/M/Wieland,+Chris...</td>\n",
       "      <td>NaN</td>\n",
       "    </tr>\n",
       "    <tr>\n",
       "      <th>3</th>\n",
       "      <td>4</td>\n",
       "      <td>Geschichten des Agathon</td>\n",
       "      <td>Wieland</td>\n",
       "      <td>Aufklaerung</td>\n",
       "      <td>Roman</td>\n",
       "      <td>epic</td>\n",
       "      <td>1766.0</td>\n",
       "      <td>Wieland_Agathon.txt</td>\n",
       "      <td>https://www.projekt-gutenberg.org/wieland/agat...</td>\n",
       "      <td>NaN</td>\n",
       "    </tr>\n",
       "    <tr>\n",
       "      <th>4</th>\n",
       "      <td>5</td>\n",
       "      <td>Der goldne Spiegel oder die Könige von Scheschian</td>\n",
       "      <td>Wieland</td>\n",
       "      <td>Aufklaerung</td>\n",
       "      <td>Roman</td>\n",
       "      <td>epic</td>\n",
       "      <td>1772.0</td>\n",
       "      <td>Wieland_GoldneSpiegel.txt</td>\n",
       "      <td>https://www.projekt-gutenberg.org/wieland/spie...</td>\n",
       "      <td>NaN</td>\n",
       "    </tr>\n",
       "  </tbody>\n",
       "</table>\n",
       "</div>"
      ],
      "text/plain": [
       "   id                                              title     author  \\\n",
       "0   1                     Die deutsche Gelehrtenrepublik  Klopstock   \n",
       "1   2                     Die Leiden des jungen Werthers     Goethe   \n",
       "2   3  Der Sieg der Natur über die Schwärmerei oder d...    Wieland   \n",
       "3   4                            Geschichten des Agathon    Wieland   \n",
       "4   5  Der goldne Spiegel oder die Könige von Scheschian    Wieland   \n",
       "\n",
       "        period    type genre    date                             file  \\\n",
       "0  Aufklaerung  Satire  epic  1774.0  Klopstock_Gelehrtenrepublik.txt   \n",
       "1  Aufklaerung   Roman  epic  1774.0               Goethe_Werther.txt   \n",
       "2  Aufklaerung   Roman  epic  1764.0            Wieland_DonSylvio.txt   \n",
       "3  Aufklaerung   Roman  epic  1766.0              Wieland_Agathon.txt   \n",
       "4  Aufklaerung   Roman  epic  1772.0        Wieland_GoldneSpiegel.txt   \n",
       "\n",
       "                                              source       annotation  \n",
       "0   http://www.literatur-live.de/salon/klopst_0.html              NaN  \n",
       "1  https://www.projekt-gutenberg.org/goethe/werth...  Sturm und Drang  \n",
       "2  http://www.zeno.org/Literatur/M/Wieland,+Chris...              NaN  \n",
       "3  https://www.projekt-gutenberg.org/wieland/agat...              NaN  \n",
       "4  https://www.projekt-gutenberg.org/wieland/spie...              NaN  "
      ]
     },
     "execution_count": 1,
     "metadata": {},
     "output_type": "execute_result"
    }
   ],
   "source": [
    "import pandas as pd\n",
    "\n",
    "meta = pd.read_csv(\"metadata_epic.csv\", encoding = \"utf-8\")\n",
    "meta.head()"
   ]
  },
  {
   "cell_type": "markdown",
   "id": "e8b4835b-e4c3-4777-a6ad-446a9e75bd89",
   "metadata": {},
   "source": [
    "## clean strings\n",
    "\n",
    "steps:\n",
    "- load files into array\n",
    "- brief cleaning of \\* and \\[xyz\\] and \\<xml\\>-stuff "
   ]
  },
  {
   "cell_type": "code",
   "execution_count": 5,
   "id": "c8094d83-2532-4aab-99ec-513eedf68bff",
   "metadata": {},
   "outputs": [],
   "source": [
    "# load corpus\n",
    "\n",
    "def load_corpus(path):\n",
    "    from numpy import append \n",
    "\n",
    "    sentences = []\n",
    "    for filename in meta[\"file\"]:\n",
    "        with open(path + filename, 'r', encoding=\"utf8\") as f:\n",
    "            sentences.append(f.read())\n",
    "            f.close()\n",
    "    return sentences"
   ]
  },
  {
   "cell_type": "code",
   "execution_count": 17,
   "id": "29d7ca7b-b9ed-45f0-9bef-0c67725fc013",
   "metadata": {},
   "outputs": [
    {
     "name": "stdout",
     "output_type": "stream",
     "text": [
      "﻿Friedrich Gottlieb Klopstock\n",
      "Die deutsche Gelehrtenrepublik.\n",
      "Teil 1 :\n",
      "Einrichtung der Republik  -  \n"
     ]
    }
   ],
   "source": [
    "texts = load_corpus(\"data_epic/\")\n",
    "print(texts[0][:100])"
   ]
  },
  {
   "cell_type": "code",
   "execution_count": 23,
   "id": "3a8bc4ed-4eb2-48f1-a324-ebc43f06d184",
   "metadata": {},
   "outputs": [],
   "source": [
    "import re\n",
    "\n",
    "cleaned_texts = []\n",
    "\n",
    "for text in texts:\n",
    "    cleaned_text = re.sub('\\[\\d+\\]', \"\", text)\n",
    "    cleaned_texts.append(cleaned_text)"
   ]
  },
  {
   "cell_type": "markdown",
   "id": "619efdf2-4fa2-4736-b9d1-c4247328728a",
   "metadata": {},
   "source": [
    "## save cleaned texts to new directories"
   ]
  },
  {
   "cell_type": "code",
   "execution_count": 70,
   "id": "d808293c-5297-4e89-8800-1eab853717a0",
   "metadata": {},
   "outputs": [],
   "source": [
    "path = \"corpora/corpus_epic/\"\n",
    "\n",
    "for i in range(len(cleaned_texts)):\n",
    "    with open(path + meta[\"file\"].iloc[i], 'w', encoding=\"utf8\") as f:\n",
    "            f.write(cleaned_texts[i])\n",
    "            f.close()"
   ]
  },
  {
   "cell_type": "code",
   "execution_count": null,
   "id": "4660c6c1-6c13-4421-80da-9f67ce5a0ac7",
   "metadata": {},
   "outputs": [],
   "source": []
  }
 ],
 "metadata": {
  "kernelspec": {
   "display_name": "Python 3 (ipykernel)",
   "language": "python",
   "name": "python3"
  },
  "language_info": {
   "codemirror_mode": {
    "name": "ipython",
    "version": 3
   },
   "file_extension": ".py",
   "mimetype": "text/x-python",
   "name": "python",
   "nbconvert_exporter": "python",
   "pygments_lexer": "ipython3",
   "version": "3.9.7"
  }
 },
 "nbformat": 4,
 "nbformat_minor": 5
}
