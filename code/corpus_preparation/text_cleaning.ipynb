{
 "cells": [
  {
   "cell_type": "markdown",
   "id": "dd0ea8d8-faef-4de7-bc72-40d104019994",
   "metadata": {},
   "source": [
    "# Text cleaning\n",
    "\n",
    "Wir müssen unsere Texte noch säubern:\n",
    "- Stopwords\n",
    "- Lemmatisierung\n",
    "- Namen müssen raus\n",
    "\n",
    "## Steps\n",
    "\n",
    "- Lade Texte und Metadaten\n",
    "- Lemmatisiere Texte\n",
    "    - speicher diese Texte in Ordner ab\n",
    "- Bereinige bereinigte Texte von Namen\n",
    "    - speicher die Texte in weiterem Ordner ab\n",
    "    \n",
    "### Lade Texte und Metadaten"
   ]
  },
  {
   "cell_type": "code",
   "execution_count": 1,
   "id": "e1cb39fc-22cf-4cba-8c42-28a11a8d77a9",
   "metadata": {},
   "outputs": [
    {
     "data": {
      "text/html": [
       "<div>\n",
       "<style scoped>\n",
       "    .dataframe tbody tr th:only-of-type {\n",
       "        vertical-align: middle;\n",
       "    }\n",
       "\n",
       "    .dataframe tbody tr th {\n",
       "        vertical-align: top;\n",
       "    }\n",
       "\n",
       "    .dataframe thead th {\n",
       "        text-align: right;\n",
       "    }\n",
       "</style>\n",
       "<table border=\"1\" class=\"dataframe\">\n",
       "  <thead>\n",
       "    <tr style=\"text-align: right;\">\n",
       "      <th></th>\n",
       "      <th>Unnamed: 0</th>\n",
       "      <th>id</th>\n",
       "      <th>title</th>\n",
       "      <th>author</th>\n",
       "      <th>author_birth_year</th>\n",
       "      <th>period</th>\n",
       "      <th>type</th>\n",
       "      <th>genre</th>\n",
       "      <th>date</th>\n",
       "      <th>file</th>\n",
       "      <th>source</th>\n",
       "      <th>annotation</th>\n",
       "      <th>tokens_cleaned</th>\n",
       "    </tr>\n",
       "  </thead>\n",
       "  <tbody>\n",
       "    <tr>\n",
       "      <th>0</th>\n",
       "      <td>34</td>\n",
       "      <td>35</td>\n",
       "      <td>Armut, Reichtum, Schuld und Buße der Gräfin Do...</td>\n",
       "      <td>Arnim, Achim</td>\n",
       "      <td>1781</td>\n",
       "      <td>Kunstepoche</td>\n",
       "      <td>Roman</td>\n",
       "      <td>epik</td>\n",
       "      <td>1810.0</td>\n",
       "      <td>Arnim_GraefinDolores.txt</td>\n",
       "      <td>https://www.projekt-gutenberg.org/arnim/dolore...</td>\n",
       "      <td>NaN</td>\n",
       "      <td>170246</td>\n",
       "    </tr>\n",
       "    <tr>\n",
       "      <th>1</th>\n",
       "      <td>93</td>\n",
       "      <td>94</td>\n",
       "      <td>Das Leben der Hochgräfin Gritta von Rattenzuha...</td>\n",
       "      <td>Arnim, Gisela</td>\n",
       "      <td>1827</td>\n",
       "      <td>Kunstepoche</td>\n",
       "      <td>Roman</td>\n",
       "      <td>epik</td>\n",
       "      <td>1840.0</td>\n",
       "      <td>Arnim_DasLebenDerHochgraefin.txt</td>\n",
       "      <td>NaN</td>\n",
       "      <td>NaN</td>\n",
       "      <td>54832</td>\n",
       "    </tr>\n",
       "    <tr>\n",
       "      <th>2</th>\n",
       "      <td>108</td>\n",
       "      <td>109</td>\n",
       "      <td>Evremont</td>\n",
       "      <td>Bernhardi</td>\n",
       "      <td>1775</td>\n",
       "      <td>Kunstepoche</td>\n",
       "      <td>Roman</td>\n",
       "      <td>epik</td>\n",
       "      <td>1836.0</td>\n",
       "      <td>Bernhardi_Evremont.txt</td>\n",
       "      <td>http://www.zeno.org/Literatur/M/Bernhardi,+Sop...</td>\n",
       "      <td>NaN</td>\n",
       "      <td>230648</td>\n",
       "    </tr>\n",
       "    <tr>\n",
       "      <th>3</th>\n",
       "      <td>57</td>\n",
       "      <td>58</td>\n",
       "      <td>Lebensgeschichte und Natürliche Ebenteuer des ...</td>\n",
       "      <td>Braeker</td>\n",
       "      <td>1735</td>\n",
       "      <td>Kunstepoche</td>\n",
       "      <td>Roman</td>\n",
       "      <td>epik</td>\n",
       "      <td>1789.0</td>\n",
       "      <td>Braeker_Tockenburg.txt</td>\n",
       "      <td>NaN</td>\n",
       "      <td>NaN</td>\n",
       "      <td>68601</td>\n",
       "    </tr>\n",
       "    <tr>\n",
       "      <th>4</th>\n",
       "      <td>84</td>\n",
       "      <td>85</td>\n",
       "      <td>Godwi</td>\n",
       "      <td>Brentano</td>\n",
       "      <td>1778</td>\n",
       "      <td>Kunstepoche</td>\n",
       "      <td>Roman</td>\n",
       "      <td>epik</td>\n",
       "      <td>1801.0</td>\n",
       "      <td>Brentano_Godwi.txt</td>\n",
       "      <td>https://www.projekt-gutenberg.org/autoren/name...</td>\n",
       "      <td>NaN</td>\n",
       "      <td>143505</td>\n",
       "    </tr>\n",
       "  </tbody>\n",
       "</table>\n",
       "</div>"
      ],
      "text/plain": [
       "   Unnamed: 0   id                                              title  \\\n",
       "0          34   35  Armut, Reichtum, Schuld und Buße der Gräfin Do...   \n",
       "1          93   94  Das Leben der Hochgräfin Gritta von Rattenzuha...   \n",
       "2         108  109                                           Evremont   \n",
       "3          57   58  Lebensgeschichte und Natürliche Ebenteuer des ...   \n",
       "4          84   85                                              Godwi   \n",
       "\n",
       "          author  author_birth_year       period   type genre    date  \\\n",
       "0   Arnim, Achim               1781  Kunstepoche  Roman  epik  1810.0   \n",
       "1  Arnim, Gisela               1827  Kunstepoche  Roman  epik  1840.0   \n",
       "2      Bernhardi               1775  Kunstepoche  Roman  epik  1836.0   \n",
       "3        Braeker               1735  Kunstepoche  Roman  epik  1789.0   \n",
       "4       Brentano               1778  Kunstepoche  Roman  epik  1801.0   \n",
       "\n",
       "                               file  \\\n",
       "0          Arnim_GraefinDolores.txt   \n",
       "1  Arnim_DasLebenDerHochgraefin.txt   \n",
       "2            Bernhardi_Evremont.txt   \n",
       "3            Braeker_Tockenburg.txt   \n",
       "4                Brentano_Godwi.txt   \n",
       "\n",
       "                                              source annotation  \\\n",
       "0  https://www.projekt-gutenberg.org/arnim/dolore...        NaN   \n",
       "1                                                NaN        NaN   \n",
       "2  http://www.zeno.org/Literatur/M/Bernhardi,+Sop...        NaN   \n",
       "3                                                NaN        NaN   \n",
       "4  https://www.projekt-gutenberg.org/autoren/name...        NaN   \n",
       "\n",
       "   tokens_cleaned  \n",
       "0          170246  \n",
       "1           54832  \n",
       "2          230648  \n",
       "3           68601  \n",
       "4          143505  "
      ]
     },
     "execution_count": 1,
     "metadata": {},
     "output_type": "execute_result"
    }
   ],
   "source": [
    "import pandas as pd\n",
    "\n",
    "meta = pd.read_csv(\"meta_epik.csv\", encoding = \"utf-8\")\n",
    "meta.head()"
   ]
  },
  {
   "cell_type": "code",
   "execution_count": 2,
   "id": "c46a2ec7-1f0b-45c0-a705-8d914a8df94b",
   "metadata": {},
   "outputs": [],
   "source": [
    "# load corpus\n",
    "\n",
    "def load_corpus(path):\n",
    "    from numpy import append \n",
    "\n",
    "    sentences = []\n",
    "    for filename in meta[\"file\"]:\n",
    "        with open(path + filename, 'r', encoding=\"utf16\") as f:\n",
    "            sentences.append(f.read())\n",
    "            f.close()\n",
    "    return sentences"
   ]
  },
  {
   "cell_type": "code",
   "execution_count": 3,
   "id": "c4655931-e36a-406a-ac82-32311d26d3d9",
   "metadata": {},
   "outputs": [],
   "source": [
    "texts = load_corpus(\"corpora/raw_normalized/corpus_epik/\")"
   ]
  },
  {
   "cell_type": "code",
   "execution_count": 4,
   "id": "da0449b7-53d9-4f52-8add-f81c0765cdad",
   "metadata": {},
   "outputs": [
    {
     "data": {
      "text/plain": [
       "'Zueignung an des Fürsten Radzivil Durchlaucht Dem Schutzgeist bleibt ein treuer Sinn ergeben , Der i'"
      ]
     },
     "execution_count": 4,
     "metadata": {},
     "output_type": "execute_result"
    }
   ],
   "source": [
    "texts[0][:100]"
   ]
  },
  {
   "cell_type": "code",
   "execution_count": 5,
   "id": "4d82ba8d-b341-456f-81b7-5d02d131049a",
   "metadata": {},
   "outputs": [],
   "source": [
    "import spacy\n",
    "\n",
    "nlp = spacy.load(\"de_core_news_lg\", disable=[\"NER\"]) \n",
    "nlp.max_length = 3000000\n",
    "\n",
    "test = nlp(texts[0][:250])"
   ]
  },
  {
   "cell_type": "code",
   "execution_count": 6,
   "id": "0ca75f45-da28-4cc7-bdd6-8f6c2ae64d89",
   "metadata": {},
   "outputs": [],
   "source": [
    "def cleaning(doc):\n",
    "    txt = []\n",
    "    for word in doc:\n",
    "        if word.pos_ == \"NOUN\" or word.pos_ == \"ADJ\" or word.pos_==\"VERB\":\n",
    "            txt.append(word.lemma_)\n",
    "        else:\n",
    "            continue\n",
    "    return ' '.join(txt)"
   ]
  },
  {
   "cell_type": "code",
   "execution_count": 7,
   "id": "a09bfa91-5653-4b1b-8999-9d71bba84214",
   "metadata": {},
   "outputs": [],
   "source": [
    "import pandas as pd\n",
    "\n",
    "df = pd.DataFrame(texts)"
   ]
  },
  {
   "cell_type": "code",
   "execution_count": 8,
   "id": "01bfdacf-ba95-45ab-8259-f96cc8f5c8d0",
   "metadata": {},
   "outputs": [
    {
     "name": "stdout",
     "output_type": "stream",
     "text": [
      "0\n",
      "1\n",
      "2\n",
      "3\n",
      "4\n",
      "5\n",
      "6\n",
      "7\n",
      "8\n",
      "9\n",
      "rest\n"
     ]
    }
   ],
   "source": [
    "import numpy as np\n",
    "import re\n",
    "k = 10\n",
    "num_samples = len(df) // k\n",
    "\n",
    "txt = []\n",
    "\n",
    "for i in range(k):\n",
    "    print(i)\n",
    "\n",
    "    text_batch = df[num_samples * i: num_samples * (i+1)]\n",
    "    brief_cleaning = (re.sub(\"[^A-ZÄÜÖa-zäüöß?!.']+\", ' ', str(row)).lower() for row in text_batch[0])\n",
    "    txt = np.concatenate((txt, [cleaning(doc) for doc in nlp.pipe(brief_cleaning, batch_size=5000)]))\n",
    "\n",
    "if len(txt) != len(df):\n",
    "    print(\"rest\")\n",
    "    text_batch = df[len(txt): ]\n",
    "    brief_cleaning = (re.sub(\"[^A-ZÄÜÖa-zäüöß?!.']+\", ' ', str(row)).lower() for row in text_batch[0])\n",
    "    txt = np.concatenate((txt, [cleaning(doc) for doc in nlp.pipe(brief_cleaning, batch_size=5000)]))"
   ]
  },
  {
   "cell_type": "code",
   "execution_count": 10,
   "id": "67559425-e0d0-48d8-9c6a-0bbaf095c075",
   "metadata": {},
   "outputs": [],
   "source": [
    "def remove_files(path):\n",
    "    import os\n",
    "    for file_name in os.listdir(path):\n",
    "        # construct full file path\n",
    "        file = path + file_name\n",
    "        if os.path.isfile(file):\n",
    "            os.remove(file)"
   ]
  },
  {
   "cell_type": "code",
   "execution_count": 11,
   "id": "a331c141-7c6a-4b34-90aa-27ae0abc6627",
   "metadata": {},
   "outputs": [],
   "source": [
    "path = \"corpora/cleaned_normalized/corpus_epik/\"\n",
    "\n",
    "remove_files(path)\n",
    "\n",
    "# write cleaned texts to files\n",
    "for i in range(len(txt)):\n",
    "    with open(path + meta[\"file\"].iloc[i], 'w', encoding=\"utf8\") as f:\n",
    "            f.write(txt[i])\n",
    "            f.close()"
   ]
  }
 ],
 "metadata": {
  "kernelspec": {
   "display_name": "Python 3 (ipykernel)",
   "language": "python",
   "name": "python3"
  },
  "language_info": {
   "codemirror_mode": {
    "name": "ipython",
    "version": 3
   },
   "file_extension": ".py",
   "mimetype": "text/x-python",
   "name": "python",
   "nbconvert_exporter": "python",
   "pygments_lexer": "ipython3",
   "version": "3.9.13"
  }
 },
 "nbformat": 4,
 "nbformat_minor": 5
}
