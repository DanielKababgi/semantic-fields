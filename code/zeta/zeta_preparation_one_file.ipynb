{
 "cells": [
  {
   "cell_type": "markdown",
   "id": "2bdfb395-aeee-4ad2-9047-12cf2e853ec4",
   "metadata": {},
   "source": [
    "# Zeta Preparation for one single file per subcorpus"
   ]
  },
  {
   "cell_type": "markdown",
   "id": "c48de10c-1635-405c-985f-e8eee4ded89c",
   "metadata": {},
   "source": [
    "## load metadata and texts"
   ]
  },
  {
   "cell_type": "code",
   "execution_count": 1,
   "id": "cc3b4067-def0-4a0a-8371-9326a896b577",
   "metadata": {},
   "outputs": [
    {
     "data": {
      "text/html": [
       "<div>\n",
       "<style scoped>\n",
       "    .dataframe tbody tr th:only-of-type {\n",
       "        vertical-align: middle;\n",
       "    }\n",
       "\n",
       "    .dataframe tbody tr th {\n",
       "        vertical-align: top;\n",
       "    }\n",
       "\n",
       "    .dataframe thead th {\n",
       "        text-align: right;\n",
       "    }\n",
       "</style>\n",
       "<table border=\"1\" class=\"dataframe\">\n",
       "  <thead>\n",
       "    <tr style=\"text-align: right;\">\n",
       "      <th></th>\n",
       "      <th>Unnamed: 0</th>\n",
       "      <th>id</th>\n",
       "      <th>title</th>\n",
       "      <th>author</th>\n",
       "      <th>period</th>\n",
       "      <th>type</th>\n",
       "      <th>genre</th>\n",
       "      <th>date</th>\n",
       "      <th>file</th>\n",
       "      <th>source</th>\n",
       "      <th>annotation</th>\n",
       "      <th>tokens_cleaned</th>\n",
       "    </tr>\n",
       "  </thead>\n",
       "  <tbody>\n",
       "    <tr>\n",
       "      <th>0</th>\n",
       "      <td>0</td>\n",
       "      <td>1</td>\n",
       "      <td>Der sterbende Cato</td>\n",
       "      <td>Gottsched</td>\n",
       "      <td>Aufklaerung</td>\n",
       "      <td>Tragedy</td>\n",
       "      <td>drama</td>\n",
       "      <td>1731</td>\n",
       "      <td>gottsched-der-sterbende-cato.xml</td>\n",
       "      <td>https://github.com/dracor-org/gerdracor</td>\n",
       "      <td>NaN</td>\n",
       "      <td>22047</td>\n",
       "    </tr>\n",
       "    <tr>\n",
       "      <th>1</th>\n",
       "      <td>1</td>\n",
       "      <td>2</td>\n",
       "      <td>Ein Deutsches Vorspiel</td>\n",
       "      <td>Neuber</td>\n",
       "      <td>Aufklaerung</td>\n",
       "      <td>NaN</td>\n",
       "      <td>drama</td>\n",
       "      <td>1734</td>\n",
       "      <td>neuber-ein-deutsches-vorspiel.xml</td>\n",
       "      <td>https://github.com/dracor-org/gerdracor</td>\n",
       "      <td>NaN</td>\n",
       "      <td>6480</td>\n",
       "    </tr>\n",
       "    <tr>\n",
       "      <th>2</th>\n",
       "      <td>2</td>\n",
       "      <td>3</td>\n",
       "      <td>Die Pietisterey im Fischbein-Rocke oder Die Do...</td>\n",
       "      <td>Gottsched</td>\n",
       "      <td>Aufklaerung</td>\n",
       "      <td>Comedy</td>\n",
       "      <td>drama</td>\n",
       "      <td>1736</td>\n",
       "      <td>gottschedin-die-pietisterey-im-fischbein-rocke...</td>\n",
       "      <td>https://github.com/dracor-org/gerdracor</td>\n",
       "      <td>NaN</td>\n",
       "      <td>27691</td>\n",
       "    </tr>\n",
       "    <tr>\n",
       "      <th>3</th>\n",
       "      <td>3</td>\n",
       "      <td>4</td>\n",
       "      <td>Die von der Weisheit wider die Unwissenheit be...</td>\n",
       "      <td>Neuber</td>\n",
       "      <td>Aufklaerung</td>\n",
       "      <td>NaN</td>\n",
       "      <td>drama</td>\n",
       "      <td>1736</td>\n",
       "      <td>neuber-die-beschuetzte-schauspielkunst.xml</td>\n",
       "      <td>https://github.com/dracor-org/gerdracor</td>\n",
       "      <td>NaN</td>\n",
       "      <td>7377</td>\n",
       "    </tr>\n",
       "    <tr>\n",
       "      <th>4</th>\n",
       "      <td>4</td>\n",
       "      <td>5</td>\n",
       "      <td>Die Verehrung der Vollkommenheit durch die geb...</td>\n",
       "      <td>Neuber</td>\n",
       "      <td>Aufklaerung</td>\n",
       "      <td>NaN</td>\n",
       "      <td>drama</td>\n",
       "      <td>1737</td>\n",
       "      <td>neuber-die-verehrung-der-vollkommenheit.xml</td>\n",
       "      <td>https://github.com/dracor-org/gerdracor</td>\n",
       "      <td>NaN</td>\n",
       "      <td>7091</td>\n",
       "    </tr>\n",
       "  </tbody>\n",
       "</table>\n",
       "</div>"
      ],
      "text/plain": [
       "   Unnamed: 0  id                                              title  \\\n",
       "0           0   1                                 Der sterbende Cato   \n",
       "1           1   2                             Ein Deutsches Vorspiel   \n",
       "2           2   3  Die Pietisterey im Fischbein-Rocke oder Die Do...   \n",
       "3           3   4  Die von der Weisheit wider die Unwissenheit be...   \n",
       "4           4   5  Die Verehrung der Vollkommenheit durch die geb...   \n",
       "\n",
       "      author       period     type  genre  date  \\\n",
       "0  Gottsched  Aufklaerung  Tragedy  drama  1731   \n",
       "1     Neuber  Aufklaerung      NaN  drama  1734   \n",
       "2  Gottsched  Aufklaerung   Comedy  drama  1736   \n",
       "3     Neuber  Aufklaerung      NaN  drama  1736   \n",
       "4     Neuber  Aufklaerung      NaN  drama  1737   \n",
       "\n",
       "                                                file  \\\n",
       "0                   gottsched-der-sterbende-cato.xml   \n",
       "1                  neuber-ein-deutsches-vorspiel.xml   \n",
       "2  gottschedin-die-pietisterey-im-fischbein-rocke...   \n",
       "3         neuber-die-beschuetzte-schauspielkunst.xml   \n",
       "4        neuber-die-verehrung-der-vollkommenheit.xml   \n",
       "\n",
       "                                    source  annotation  tokens_cleaned  \n",
       "0  https://github.com/dracor-org/gerdracor         NaN           22047  \n",
       "1  https://github.com/dracor-org/gerdracor         NaN            6480  \n",
       "2  https://github.com/dracor-org/gerdracor         NaN           27691  \n",
       "3  https://github.com/dracor-org/gerdracor         NaN            7377  \n",
       "4  https://github.com/dracor-org/gerdracor         NaN            7091  "
      ]
     },
     "execution_count": 1,
     "metadata": {},
     "output_type": "execute_result"
    }
   ],
   "source": [
    "import pandas as pd\n",
    "\n",
    "meta = pd.read_csv(\"meta_drama.csv\", encoding = \"utf-8\")\n",
    "meta.head()"
   ]
  },
  {
   "cell_type": "code",
   "execution_count": 2,
   "id": "9da8af88-0fb2-4dd4-ae47-29e8f9df7dee",
   "metadata": {},
   "outputs": [],
   "source": [
    "# load corpus\n",
    "\n",
    "def load_corpus(path, period):\n",
    "    from numpy import append \n",
    "\n",
    "    sentences = []\n",
    "    for filename in meta[\"file\"].loc[meta[\"period\"]==period]:\n",
    "        with open(path + filename, 'r', encoding=\"utf16\") as f:\n",
    "            sentences.append(f.read())\n",
    "            f.close()\n",
    "    return sentences"
   ]
  },
  {
   "cell_type": "code",
   "execution_count": 3,
   "id": "6464fd8b-c342-45ef-b251-233041402830",
   "metadata": {},
   "outputs": [],
   "source": [
    "def load_corpus_drama(path):\n",
    "    from numpy import append \n",
    "    from os import listdir\n",
    "    \n",
    "    texts = []\n",
    "    filenames = []\n",
    "    for filename in listdir(path):\n",
    "        with open(path + \"/\" + filename, 'r', encoding=\"utf16\") as f:\n",
    "            texts.append(f.read())\n",
    "\n",
    "        filenames.append(filename)    \n",
    "    return texts, filenames"
   ]
  },
  {
   "cell_type": "code",
   "execution_count": 4,
   "id": "6ca1521a-d50f-439d-a942-132cd54fb1e6",
   "metadata": {},
   "outputs": [],
   "source": [
    "texts_aufklaerung = load_corpus(\"corpora/cleaned_normalized/corpus_drama/\", \"Aufklaerung\")\n",
    "texts_kunstepoche = load_corpus(\"corpora/cleaned_normalized/corpus_drama/\", \"Kunstepoche\")"
   ]
  },
  {
   "cell_type": "code",
   "execution_count": 5,
   "id": "310d8981-2c9c-4f08-b8be-8e0ccebe9009",
   "metadata": {},
   "outputs": [],
   "source": [
    "# texts, filenames = load_corpus_drama(\"corpora/cleaned_normalized/corpus_drama/\")"
   ]
  },
  {
   "cell_type": "code",
   "execution_count": 6,
   "id": "59e1928b-ea96-463b-93a9-2d26f004e46f",
   "metadata": {},
   "outputs": [],
   "source": [
    "# texts_aufklaerung = []\n",
    "# texts_kunstepoche = []\n",
    "\n",
    "# for i in range(len(texts)):\n",
    "#     if \"_aufklaerung\" in filenames[i]:\n",
    "#         texts_aufklaerung.append(texts[i])\n",
    "#     else:\n",
    "#         texts_kunstepoche.append(texts[i])"
   ]
  },
  {
   "cell_type": "markdown",
   "id": "3f0c6796-ddba-4ac9-ba48-0cd64347b6f2",
   "metadata": {},
   "source": [
    "## create single string per subcorpora"
   ]
  },
  {
   "cell_type": "code",
   "execution_count": 7,
   "id": "bbd896cf-5858-49fa-9154-7972f0f21efb",
   "metadata": {},
   "outputs": [],
   "source": [
    "one_string_aufklaerung = \"\"\n",
    "\n",
    "for text in texts_aufklaerung:\n",
    "    one_string_aufklaerung = one_string_aufklaerung + text"
   ]
  },
  {
   "cell_type": "code",
   "execution_count": 8,
   "id": "c61ff138-0efd-42da-988f-87605312eaca",
   "metadata": {},
   "outputs": [],
   "source": [
    "one_string_kunstepoche = \"\"\n",
    "\n",
    "for text in texts_kunstepoche:\n",
    "    one_string_kunstepoche = one_string_kunstepoche + text"
   ]
  },
  {
   "cell_type": "code",
   "execution_count": 9,
   "id": "6337714f-9250-4441-81f3-3a7551fb5732",
   "metadata": {},
   "outputs": [
    {
     "data": {
      "text/plain": [
       "14606856"
      ]
     },
     "execution_count": 9,
     "metadata": {},
     "output_type": "execute_result"
    }
   ],
   "source": [
    "len(one_string_kunstepoche)"
   ]
  },
  {
   "cell_type": "markdown",
   "id": "d9fdd2ae-ddbb-4239-a547-a4126be0e5ef",
   "metadata": {},
   "source": [
    "## copy string as txt file"
   ]
  },
  {
   "cell_type": "code",
   "execution_count": 10,
   "id": "090a5dd8-d8b6-4df8-8087-ba94211bb253",
   "metadata": {},
   "outputs": [],
   "source": [
    "import os\n",
    "\n",
    "paths = [\"Zeta/aufklaerung/\", \"Zeta/kunstepoche/\"]\n",
    "for path in paths:\n",
    "    for file_name in os.listdir(path):\n",
    "        # construct full file path\n",
    "        file = path + file_name\n",
    "        if os.path.isfile(file):\n",
    "            os.remove(file)"
   ]
  },
  {
   "cell_type": "code",
   "execution_count": 11,
   "id": "60f3ed14-6cec-4b8a-8375-7021323d8224",
   "metadata": {},
   "outputs": [],
   "source": [
    "f = open(\"Zeta/aufklaerung/aufklaerung_complete.txt\", \"a\", encoding=\"utf8\")\n",
    "f.write(one_string_aufklaerung)\n",
    "f.close()"
   ]
  },
  {
   "cell_type": "code",
   "execution_count": 12,
   "id": "bad2d64e-a734-4b37-9796-c0ae96b6e261",
   "metadata": {},
   "outputs": [],
   "source": [
    "f = open(\"Zeta/kunstepoche/kunstepoche_complete.txt\", \"a\", encoding=\"utf8\")\n",
    "f.write(one_string_kunstepoche)\n",
    "f.close()"
   ]
  }
 ],
 "metadata": {
  "kernelspec": {
   "display_name": "Python 3 (ipykernel)",
   "language": "python",
   "name": "python3"
  },
  "language_info": {
   "codemirror_mode": {
    "name": "ipython",
    "version": 3
   },
   "file_extension": ".py",
   "mimetype": "text/x-python",
   "name": "python",
   "nbconvert_exporter": "python",
   "pygments_lexer": "ipython3",
   "version": "3.9.13"
  }
 },
 "nbformat": 4,
 "nbformat_minor": 5
}
