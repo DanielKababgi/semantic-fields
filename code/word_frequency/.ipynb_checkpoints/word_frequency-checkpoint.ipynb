{
 "cells": [
  {
   "cell_type": "markdown",
   "id": "54fdd890-f689-43d2-b731-1e39035bd353",
   "metadata": {},
   "source": [
    "# Worthäufigkeiten\n",
    "\n",
    "Brauchen von Stopwords bereinigte lemmatisierte Texte\n",
    "\n",
    "Schritte:\n",
    "- Texte laden\n",
    "- Wörter zählen\n",
    "- als DF mit Wort|Freq ausgeben"
   ]
  },
  {
   "cell_type": "code",
   "execution_count": 1,
   "id": "faff2f0a-985c-42d7-a279-c37d645e124d",
   "metadata": {},
   "outputs": [
    {
     "data": {
      "text/html": [
       "<div>\n",
       "<style scoped>\n",
       "    .dataframe tbody tr th:only-of-type {\n",
       "        vertical-align: middle;\n",
       "    }\n",
       "\n",
       "    .dataframe tbody tr th {\n",
       "        vertical-align: top;\n",
       "    }\n",
       "\n",
       "    .dataframe thead th {\n",
       "        text-align: right;\n",
       "    }\n",
       "</style>\n",
       "<table border=\"1\" class=\"dataframe\">\n",
       "  <thead>\n",
       "    <tr style=\"text-align: right;\">\n",
       "      <th></th>\n",
       "      <th>Unnamed: 0</th>\n",
       "      <th>id</th>\n",
       "      <th>title</th>\n",
       "      <th>author</th>\n",
       "      <th>period</th>\n",
       "      <th>type</th>\n",
       "      <th>genre</th>\n",
       "      <th>date</th>\n",
       "      <th>file</th>\n",
       "      <th>source</th>\n",
       "      <th>annotation</th>\n",
       "      <th>tokens_cleaned</th>\n",
       "    </tr>\n",
       "  </thead>\n",
       "  <tbody>\n",
       "    <tr>\n",
       "      <th>0</th>\n",
       "      <td>0</td>\n",
       "      <td>1</td>\n",
       "      <td>Der sterbende Cato</td>\n",
       "      <td>Gottsched</td>\n",
       "      <td>Aufklaerung</td>\n",
       "      <td>Tragedy</td>\n",
       "      <td>drama</td>\n",
       "      <td>1731</td>\n",
       "      <td>gottsched-der-sterbende-cato.xml</td>\n",
       "      <td>https://github.com/dracor-org/gerdracor</td>\n",
       "      <td>NaN</td>\n",
       "      <td>22047</td>\n",
       "    </tr>\n",
       "    <tr>\n",
       "      <th>1</th>\n",
       "      <td>1</td>\n",
       "      <td>2</td>\n",
       "      <td>Ein Deutsches Vorspiel</td>\n",
       "      <td>Neuber</td>\n",
       "      <td>Aufklaerung</td>\n",
       "      <td>NaN</td>\n",
       "      <td>drama</td>\n",
       "      <td>1734</td>\n",
       "      <td>neuber-ein-deutsches-vorspiel.xml</td>\n",
       "      <td>https://github.com/dracor-org/gerdracor</td>\n",
       "      <td>NaN</td>\n",
       "      <td>6480</td>\n",
       "    </tr>\n",
       "    <tr>\n",
       "      <th>2</th>\n",
       "      <td>2</td>\n",
       "      <td>3</td>\n",
       "      <td>Die Pietisterey im Fischbein-Rocke oder Die Do...</td>\n",
       "      <td>Gottsched</td>\n",
       "      <td>Aufklaerung</td>\n",
       "      <td>Comedy</td>\n",
       "      <td>drama</td>\n",
       "      <td>1736</td>\n",
       "      <td>gottschedin-die-pietisterey-im-fischbein-rocke...</td>\n",
       "      <td>https://github.com/dracor-org/gerdracor</td>\n",
       "      <td>NaN</td>\n",
       "      <td>27691</td>\n",
       "    </tr>\n",
       "    <tr>\n",
       "      <th>3</th>\n",
       "      <td>3</td>\n",
       "      <td>4</td>\n",
       "      <td>Die von der Weisheit wider die Unwissenheit be...</td>\n",
       "      <td>Neuber</td>\n",
       "      <td>Aufklaerung</td>\n",
       "      <td>NaN</td>\n",
       "      <td>drama</td>\n",
       "      <td>1736</td>\n",
       "      <td>neuber-die-beschuetzte-schauspielkunst.xml</td>\n",
       "      <td>https://github.com/dracor-org/gerdracor</td>\n",
       "      <td>NaN</td>\n",
       "      <td>7377</td>\n",
       "    </tr>\n",
       "    <tr>\n",
       "      <th>4</th>\n",
       "      <td>4</td>\n",
       "      <td>5</td>\n",
       "      <td>Die Verehrung der Vollkommenheit durch die geb...</td>\n",
       "      <td>Neuber</td>\n",
       "      <td>Aufklaerung</td>\n",
       "      <td>NaN</td>\n",
       "      <td>drama</td>\n",
       "      <td>1737</td>\n",
       "      <td>neuber-die-verehrung-der-vollkommenheit.xml</td>\n",
       "      <td>https://github.com/dracor-org/gerdracor</td>\n",
       "      <td>NaN</td>\n",
       "      <td>7091</td>\n",
       "    </tr>\n",
       "  </tbody>\n",
       "</table>\n",
       "</div>"
      ],
      "text/plain": [
       "   Unnamed: 0  id                                              title  \\\n",
       "0           0   1                                 Der sterbende Cato   \n",
       "1           1   2                             Ein Deutsches Vorspiel   \n",
       "2           2   3  Die Pietisterey im Fischbein-Rocke oder Die Do...   \n",
       "3           3   4  Die von der Weisheit wider die Unwissenheit be...   \n",
       "4           4   5  Die Verehrung der Vollkommenheit durch die geb...   \n",
       "\n",
       "      author       period     type  genre  date  \\\n",
       "0  Gottsched  Aufklaerung  Tragedy  drama  1731   \n",
       "1     Neuber  Aufklaerung      NaN  drama  1734   \n",
       "2  Gottsched  Aufklaerung   Comedy  drama  1736   \n",
       "3     Neuber  Aufklaerung      NaN  drama  1736   \n",
       "4     Neuber  Aufklaerung      NaN  drama  1737   \n",
       "\n",
       "                                                file  \\\n",
       "0                   gottsched-der-sterbende-cato.xml   \n",
       "1                  neuber-ein-deutsches-vorspiel.xml   \n",
       "2  gottschedin-die-pietisterey-im-fischbein-rocke...   \n",
       "3         neuber-die-beschuetzte-schauspielkunst.xml   \n",
       "4        neuber-die-verehrung-der-vollkommenheit.xml   \n",
       "\n",
       "                                    source  annotation  tokens_cleaned  \n",
       "0  https://github.com/dracor-org/gerdracor         NaN           22047  \n",
       "1  https://github.com/dracor-org/gerdracor         NaN            6480  \n",
       "2  https://github.com/dracor-org/gerdracor         NaN           27691  \n",
       "3  https://github.com/dracor-org/gerdracor         NaN            7377  \n",
       "4  https://github.com/dracor-org/gerdracor         NaN            7091  "
      ]
     },
     "execution_count": 1,
     "metadata": {},
     "output_type": "execute_result"
    }
   ],
   "source": [
    "import pandas as pd\n",
    "meta = pd.read_csv(\"meta_epik.csv\", encoding = \"utf8\")\n",
    "meta.head()"
   ]
  },
  {
   "cell_type": "code",
   "execution_count": 2,
   "id": "e46015e3-90c8-454c-b573-681ed641e499",
   "metadata": {},
   "outputs": [],
   "source": [
    "def load_corpus(path, df):\n",
    "    from numpy import append \n",
    "\n",
    "    texts = []\n",
    "    filenames = []\n",
    "    for filename in df[\"file\"]:\n",
    "        with open(path + filename, 'r', encoding=\"utf16\") as f:\n",
    "            texts.append(f.read())\n",
    "            f.close()\n",
    "        filenames.append(filename)    \n",
    "    return texts, filenames"
   ]
  },
  {
   "cell_type": "code",
   "execution_count": 3,
   "id": "7abb4927-0d1c-4903-8887-7f8b613b15d8",
   "metadata": {},
   "outputs": [],
   "source": [
    "def load_corpus_lyrik(path):\n",
    "    from numpy import append \n",
    "    from os import listdir\n",
    "    \n",
    "    texts = []\n",
    "    filenames = []\n",
    "    for filename in listdir(path):\n",
    "        with open(path + \"/\" + filename, 'r', encoding=\"utf16\") as f:\n",
    "            texts.append(f.read())\n",
    "\n",
    "        filenames.append(filename)    \n",
    "    return texts, filenames"
   ]
  },
  {
   "cell_type": "code",
   "execution_count": 4,
   "id": "72cf1116-def6-4ed3-8f49-11ea7f2d934a",
   "metadata": {},
   "outputs": [],
   "source": [
    "# texts_aufklaerung, filenames_aufklaerung = load_corpus(\"corpora/cleaned_normalized/corpus_drama/\", meta.loc[meta[\"period\"]==\"Aufklaerung\"])\n",
    "# texts_kunstepoche, filenames_kunstepoche = load_corpus(\"corpora/cleaned_normalized/corpus_drama/\", meta.loc[meta[\"period\"]==\"Kunstepoche\"])\n",
    "# texts, filenames = load_corpus(\"corpora/cleaned_normalized/corpus_drama/\", meta)"
   ]
  },
  {
   "cell_type": "code",
   "execution_count": 5,
   "id": "df609192-9fca-4e98-bec6-6d2ca68224ed",
   "metadata": {},
   "outputs": [],
   "source": [
    "texts, filenames = load_corpus_lyrik(\"corpora/cleaned_normalized/corpus_lyrik/\")"
   ]
  },
  {
   "cell_type": "code",
   "execution_count": 6,
   "id": "1b0420cb-f4de-4960-869a-0711c6c12420",
   "metadata": {},
   "outputs": [],
   "source": [
    "texts_aufklaerung = []\n",
    "texts_kunstepoche = []\n",
    "\n",
    "for i in range(len(texts)):\n",
    "    if \"_aufklaerung\" in filenames[i]:\n",
    "        texts_aufklaerung.append(texts[i])\n",
    "    else:\n",
    "        texts_kunstepoche.append(texts[i])"
   ]
  },
  {
   "cell_type": "code",
   "execution_count": 7,
   "id": "ced82c9a-2d12-42db-b5fb-16d86dc4c5ac",
   "metadata": {},
   "outputs": [
    {
     "data": {
      "text/plain": [
       "72"
      ]
     },
     "execution_count": 7,
     "metadata": {},
     "output_type": "execute_result"
    }
   ],
   "source": [
    "len(texts_aufklaerung)"
   ]
  },
  {
   "cell_type": "code",
   "execution_count": 8,
   "id": "922041a7-b520-4bca-af70-8cffacfc8d1e",
   "metadata": {},
   "outputs": [
    {
     "data": {
      "text/plain": [
       "76"
      ]
     },
     "execution_count": 8,
     "metadata": {},
     "output_type": "execute_result"
    }
   ],
   "source": [
    "len(texts_kunstepoche)"
   ]
  },
  {
   "cell_type": "code",
   "execution_count": 9,
   "id": "124e36be-3fea-442b-b428-4f4b615af383",
   "metadata": {},
   "outputs": [
    {
     "data": {
      "text/plain": [
       "'Wodan Donnerer sinken Eroberer Tyrann schlank deutsch Todesspeer -- ha -- hieben löwenmutig Todeswun'"
      ]
     },
     "execution_count": 9,
     "metadata": {},
     "output_type": "execute_result"
    }
   ],
   "source": [
    "texts[0][:100]"
   ]
  },
  {
   "cell_type": "code",
   "execution_count": 10,
   "id": "225408a0-0b96-442e-b1b1-0fe12156c110",
   "metadata": {},
   "outputs": [
    {
     "data": {
      "text/plain": [
       "72"
      ]
     },
     "execution_count": 10,
     "metadata": {},
     "output_type": "execute_result"
    }
   ],
   "source": [
    "len(texts_aufklaerung)"
   ]
  },
  {
   "cell_type": "markdown",
   "id": "4fe70d16-a90e-4de9-86e6-094fac4adddf",
   "metadata": {},
   "source": [
    "## make first counter of all texts"
   ]
  },
  {
   "cell_type": "code",
   "execution_count": 11,
   "id": "d1a821ab-a296-424b-a40a-5e175235a61b",
   "metadata": {},
   "outputs": [],
   "source": [
    "df = pd.DataFrame(texts)"
   ]
  },
  {
   "cell_type": "code",
   "execution_count": 12,
   "id": "02297346-907c-4a56-aa8c-f0d4aedbf23f",
   "metadata": {},
   "outputs": [],
   "source": [
    "import re\n",
    "\n",
    "cleanDf = (re.sub(\"[^A-ZÄÖÜa-zäüöß']+\", ' ', str(row)).lower() for row in df[0])"
   ]
  },
  {
   "cell_type": "code",
   "execution_count": 13,
   "id": "e00e7234-d008-4ca7-982d-ec7b2c94b0b6",
   "metadata": {},
   "outputs": [],
   "source": [
    "from collections import Counter\n",
    "\n",
    "word_counter = Counter()\n",
    "\n",
    "for text in cleanDf:\n",
    "    word_counter.update(text.split())"
   ]
  },
  {
   "cell_type": "code",
   "execution_count": 14,
   "id": "8357d104-a6b7-4d41-b821-89c1aa4881ee",
   "metadata": {},
   "outputs": [],
   "source": [
    "word_countDf = pd.DataFrame(word_counter.most_common(), columns = [\"word\", \"count_complete\"])"
   ]
  },
  {
   "cell_type": "markdown",
   "id": "84d9140c-ca1b-45c1-98bf-922e10561e12",
   "metadata": {},
   "source": [
    "## counter of aufklaerung + merge"
   ]
  },
  {
   "cell_type": "code",
   "execution_count": 15,
   "id": "9eb54d45-e904-4eff-891c-230159dee675",
   "metadata": {},
   "outputs": [],
   "source": [
    "# preperation\n",
    "df = pd.DataFrame(texts_aufklaerung)\n",
    "cleanDf = (re.sub(\"[^A-ZÄÖÜa-zäüöß']+\", ' ', str(row)).lower() for row in df[0])\n",
    "\n",
    "# counter\n",
    "word_counter = Counter()\n",
    "for text in cleanDf:\n",
    "    word_counter.update(text.split())\n",
    "\n",
    "# dataframe    \n",
    "word_countDf_aufklaerung = pd.DataFrame(word_counter.most_common(), columns = [\"word\", \"count_aufklaerung\"])"
   ]
  },
  {
   "cell_type": "code",
   "execution_count": 16,
   "id": "626583df-143d-4e40-a8bc-a323d16f7ddf",
   "metadata": {},
   "outputs": [],
   "source": [
    "newDf = word_countDf.merge(word_countDf_aufklaerung, on =\"word\", how =\"left\")"
   ]
  },
  {
   "cell_type": "markdown",
   "id": "b9f77a85-3ac5-4c07-bb1d-e21ff8b6d12b",
   "metadata": {},
   "source": [
    "## counter of kunstepoche + merge"
   ]
  },
  {
   "cell_type": "code",
   "execution_count": 17,
   "id": "6e42ae86-2837-4c25-a693-135f1a8ddf0e",
   "metadata": {},
   "outputs": [],
   "source": [
    "# preperation\n",
    "df = pd.DataFrame(texts_kunstepoche)\n",
    "cleanDf = (re.sub(\"[^A-ZÄÖÜa-zäüöß']+\", ' ', str(row)).lower() for row in df[0])\n",
    "\n",
    "# counter\n",
    "word_counter = Counter()\n",
    "for text in cleanDf:\n",
    "    word_counter.update(text.split())\n",
    "\n",
    "# dataframe    \n",
    "word_countDf_kunstepoche = pd.DataFrame(word_counter.most_common(), columns = [\"word\", \"count_kunstepoche\"])"
   ]
  },
  {
   "cell_type": "code",
   "execution_count": 18,
   "id": "5d361e2d-4b80-4003-a6e8-7cbdb767b5a5",
   "metadata": {},
   "outputs": [],
   "source": [
    "finalDf = newDf.merge(word_countDf_kunstepoche, on =\"word\", how =\"left\")"
   ]
  },
  {
   "cell_type": "code",
   "execution_count": 19,
   "id": "6224b697-3af8-4f53-967a-d11cb06d97a7",
   "metadata": {},
   "outputs": [],
   "source": [
    "Df = finalDf.fillna(0)"
   ]
  },
  {
   "cell_type": "code",
   "execution_count": 20,
   "id": "f12313ba-ebab-4193-a560-2ecc11379630",
   "metadata": {},
   "outputs": [
    {
     "data": {
      "text/html": [
       "<div>\n",
       "<style scoped>\n",
       "    .dataframe tbody tr th:only-of-type {\n",
       "        vertical-align: middle;\n",
       "    }\n",
       "\n",
       "    .dataframe tbody tr th {\n",
       "        vertical-align: top;\n",
       "    }\n",
       "\n",
       "    .dataframe thead th {\n",
       "        text-align: right;\n",
       "    }\n",
       "</style>\n",
       "<table border=\"1\" class=\"dataframe\">\n",
       "  <thead>\n",
       "    <tr style=\"text-align: right;\">\n",
       "      <th></th>\n",
       "      <th>word</th>\n",
       "      <th>count_complete</th>\n",
       "      <th>count_aufklaerung</th>\n",
       "      <th>count_kunstepoche</th>\n",
       "      <th>rel_count_complete</th>\n",
       "    </tr>\n",
       "  </thead>\n",
       "  <tbody>\n",
       "    <tr>\n",
       "      <th>0</th>\n",
       "      <td>o</td>\n",
       "      <td>36447</td>\n",
       "      <td>16138.0</td>\n",
       "      <td>20309.0</td>\n",
       "      <td>0.006673</td>\n",
       "    </tr>\n",
       "    <tr>\n",
       "      <th>1</th>\n",
       "      <td>sehen</td>\n",
       "      <td>31617</td>\n",
       "      <td>16298.0</td>\n",
       "      <td>15319.0</td>\n",
       "      <td>0.005788</td>\n",
       "    </tr>\n",
       "    <tr>\n",
       "      <th>2</th>\n",
       "      <td>leben</td>\n",
       "      <td>27259</td>\n",
       "      <td>11569.0</td>\n",
       "      <td>15690.0</td>\n",
       "      <td>0.004990</td>\n",
       "    </tr>\n",
       "    <tr>\n",
       "      <th>3</th>\n",
       "      <td>gott</td>\n",
       "      <td>27069</td>\n",
       "      <td>13503.0</td>\n",
       "      <td>13566.0</td>\n",
       "      <td>0.004956</td>\n",
       "    </tr>\n",
       "    <tr>\n",
       "      <th>4</th>\n",
       "      <td>schön</td>\n",
       "      <td>24208</td>\n",
       "      <td>10566.0</td>\n",
       "      <td>13642.0</td>\n",
       "      <td>0.004432</td>\n",
       "    </tr>\n",
       "  </tbody>\n",
       "</table>\n",
       "</div>"
      ],
      "text/plain": [
       "    word  count_complete  count_aufklaerung  count_kunstepoche  \\\n",
       "0      o           36447            16138.0            20309.0   \n",
       "1  sehen           31617            16298.0            15319.0   \n",
       "2  leben           27259            11569.0            15690.0   \n",
       "3   gott           27069            13503.0            13566.0   \n",
       "4  schön           24208            10566.0            13642.0   \n",
       "\n",
       "   rel_count_complete  \n",
       "0            0.006673  \n",
       "1            0.005788  \n",
       "2            0.004990  \n",
       "3            0.004956  \n",
       "4            0.004432  "
      ]
     },
     "execution_count": 20,
     "metadata": {},
     "output_type": "execute_result"
    }
   ],
   "source": [
    "sum_complete = sum(Df[\"count_complete\"])\n",
    "\n",
    "Df[\"rel_count_complete\"] = Df[\"count_complete\"]/sum_complete\n",
    "Df.head()"
   ]
  },
  {
   "cell_type": "code",
   "execution_count": 21,
   "id": "09669a2b-5177-4e94-b4c6-26710e0f40b8",
   "metadata": {},
   "outputs": [
    {
     "data": {
      "text/html": [
       "<div>\n",
       "<style scoped>\n",
       "    .dataframe tbody tr th:only-of-type {\n",
       "        vertical-align: middle;\n",
       "    }\n",
       "\n",
       "    .dataframe tbody tr th {\n",
       "        vertical-align: top;\n",
       "    }\n",
       "\n",
       "    .dataframe thead th {\n",
       "        text-align: right;\n",
       "    }\n",
       "</style>\n",
       "<table border=\"1\" class=\"dataframe\">\n",
       "  <thead>\n",
       "    <tr style=\"text-align: right;\">\n",
       "      <th></th>\n",
       "      <th>word</th>\n",
       "      <th>count_complete</th>\n",
       "      <th>count_aufklaerung</th>\n",
       "      <th>count_kunstepoche</th>\n",
       "      <th>rel_count_complete</th>\n",
       "      <th>rel_count_aufklaerung</th>\n",
       "    </tr>\n",
       "  </thead>\n",
       "  <tbody>\n",
       "    <tr>\n",
       "      <th>0</th>\n",
       "      <td>o</td>\n",
       "      <td>36447</td>\n",
       "      <td>16138.0</td>\n",
       "      <td>20309.0</td>\n",
       "      <td>0.006673</td>\n",
       "      <td>0.006998</td>\n",
       "    </tr>\n",
       "    <tr>\n",
       "      <th>1</th>\n",
       "      <td>sehen</td>\n",
       "      <td>31617</td>\n",
       "      <td>16298.0</td>\n",
       "      <td>15319.0</td>\n",
       "      <td>0.005788</td>\n",
       "      <td>0.007067</td>\n",
       "    </tr>\n",
       "    <tr>\n",
       "      <th>2</th>\n",
       "      <td>leben</td>\n",
       "      <td>27259</td>\n",
       "      <td>11569.0</td>\n",
       "      <td>15690.0</td>\n",
       "      <td>0.004990</td>\n",
       "      <td>0.005017</td>\n",
       "    </tr>\n",
       "    <tr>\n",
       "      <th>3</th>\n",
       "      <td>gott</td>\n",
       "      <td>27069</td>\n",
       "      <td>13503.0</td>\n",
       "      <td>13566.0</td>\n",
       "      <td>0.004956</td>\n",
       "      <td>0.005855</td>\n",
       "    </tr>\n",
       "    <tr>\n",
       "      <th>4</th>\n",
       "      <td>schön</td>\n",
       "      <td>24208</td>\n",
       "      <td>10566.0</td>\n",
       "      <td>13642.0</td>\n",
       "      <td>0.004432</td>\n",
       "      <td>0.004582</td>\n",
       "    </tr>\n",
       "  </tbody>\n",
       "</table>\n",
       "</div>"
      ],
      "text/plain": [
       "    word  count_complete  count_aufklaerung  count_kunstepoche  \\\n",
       "0      o           36447            16138.0            20309.0   \n",
       "1  sehen           31617            16298.0            15319.0   \n",
       "2  leben           27259            11569.0            15690.0   \n",
       "3   gott           27069            13503.0            13566.0   \n",
       "4  schön           24208            10566.0            13642.0   \n",
       "\n",
       "   rel_count_complete  rel_count_aufklaerung  \n",
       "0            0.006673               0.006998  \n",
       "1            0.005788               0.007067  \n",
       "2            0.004990               0.005017  \n",
       "3            0.004956               0.005855  \n",
       "4            0.004432               0.004582  "
      ]
     },
     "execution_count": 21,
     "metadata": {},
     "output_type": "execute_result"
    }
   ],
   "source": [
    "sum_aufklaerung = sum(Df[\"count_aufklaerung\"])\n",
    "\n",
    "Df[\"rel_count_aufklaerung\"] = Df[\"count_aufklaerung\"]/sum_aufklaerung\n",
    "Df.head()"
   ]
  },
  {
   "cell_type": "code",
   "execution_count": 22,
   "id": "995c5b11-a18f-4fcc-ad0c-f288c5394a13",
   "metadata": {},
   "outputs": [
    {
     "data": {
      "text/html": [
       "<div>\n",
       "<style scoped>\n",
       "    .dataframe tbody tr th:only-of-type {\n",
       "        vertical-align: middle;\n",
       "    }\n",
       "\n",
       "    .dataframe tbody tr th {\n",
       "        vertical-align: top;\n",
       "    }\n",
       "\n",
       "    .dataframe thead th {\n",
       "        text-align: right;\n",
       "    }\n",
       "</style>\n",
       "<table border=\"1\" class=\"dataframe\">\n",
       "  <thead>\n",
       "    <tr style=\"text-align: right;\">\n",
       "      <th></th>\n",
       "      <th>word</th>\n",
       "      <th>count_complete</th>\n",
       "      <th>count_aufklaerung</th>\n",
       "      <th>count_kunstepoche</th>\n",
       "      <th>rel_count_complete</th>\n",
       "      <th>rel_count_aufklaerung</th>\n",
       "      <th>rel_count_kunstepoche</th>\n",
       "    </tr>\n",
       "  </thead>\n",
       "  <tbody>\n",
       "    <tr>\n",
       "      <th>0</th>\n",
       "      <td>o</td>\n",
       "      <td>36447</td>\n",
       "      <td>16138.0</td>\n",
       "      <td>20309.0</td>\n",
       "      <td>0.006673</td>\n",
       "      <td>0.006998</td>\n",
       "      <td>0.006435</td>\n",
       "    </tr>\n",
       "    <tr>\n",
       "      <th>1</th>\n",
       "      <td>sehen</td>\n",
       "      <td>31617</td>\n",
       "      <td>16298.0</td>\n",
       "      <td>15319.0</td>\n",
       "      <td>0.005788</td>\n",
       "      <td>0.007067</td>\n",
       "      <td>0.004854</td>\n",
       "    </tr>\n",
       "    <tr>\n",
       "      <th>2</th>\n",
       "      <td>leben</td>\n",
       "      <td>27259</td>\n",
       "      <td>11569.0</td>\n",
       "      <td>15690.0</td>\n",
       "      <td>0.004990</td>\n",
       "      <td>0.005017</td>\n",
       "      <td>0.004971</td>\n",
       "    </tr>\n",
       "    <tr>\n",
       "      <th>3</th>\n",
       "      <td>gott</td>\n",
       "      <td>27069</td>\n",
       "      <td>13503.0</td>\n",
       "      <td>13566.0</td>\n",
       "      <td>0.004956</td>\n",
       "      <td>0.005855</td>\n",
       "      <td>0.004298</td>\n",
       "    </tr>\n",
       "    <tr>\n",
       "      <th>4</th>\n",
       "      <td>schön</td>\n",
       "      <td>24208</td>\n",
       "      <td>10566.0</td>\n",
       "      <td>13642.0</td>\n",
       "      <td>0.004432</td>\n",
       "      <td>0.004582</td>\n",
       "      <td>0.004322</td>\n",
       "    </tr>\n",
       "  </tbody>\n",
       "</table>\n",
       "</div>"
      ],
      "text/plain": [
       "    word  count_complete  count_aufklaerung  count_kunstepoche  \\\n",
       "0      o           36447            16138.0            20309.0   \n",
       "1  sehen           31617            16298.0            15319.0   \n",
       "2  leben           27259            11569.0            15690.0   \n",
       "3   gott           27069            13503.0            13566.0   \n",
       "4  schön           24208            10566.0            13642.0   \n",
       "\n",
       "   rel_count_complete  rel_count_aufklaerung  rel_count_kunstepoche  \n",
       "0            0.006673               0.006998               0.006435  \n",
       "1            0.005788               0.007067               0.004854  \n",
       "2            0.004990               0.005017               0.004971  \n",
       "3            0.004956               0.005855               0.004298  \n",
       "4            0.004432               0.004582               0.004322  "
      ]
     },
     "execution_count": 22,
     "metadata": {},
     "output_type": "execute_result"
    }
   ],
   "source": [
    "sum_kunstepoche = sum(Df[\"count_kunstepoche\"])\n",
    "\n",
    "Df[\"rel_count_kunstepoche\"] = Df[\"count_kunstepoche\"]/sum_kunstepoche\n",
    "Df.head()"
   ]
  },
  {
   "cell_type": "code",
   "execution_count": 23,
   "id": "6cd521d8-b9d3-4132-9aba-6a40de2e8823",
   "metadata": {},
   "outputs": [],
   "source": [
    "Df.to_csv(\"word_freq_lyrik.csv\", encoding = \"utf8\")"
   ]
  }
 ],
 "metadata": {
  "kernelspec": {
   "display_name": "Python 3 (ipykernel)",
   "language": "python",
   "name": "python3"
  },
  "language_info": {
   "codemirror_mode": {
    "name": "ipython",
    "version": 3
   },
   "file_extension": ".py",
   "mimetype": "text/x-python",
   "name": "python",
   "nbconvert_exporter": "python",
   "pygments_lexer": "ipython3",
   "version": "3.9.13"
  }
 },
 "nbformat": 4,
 "nbformat_minor": 5
}
