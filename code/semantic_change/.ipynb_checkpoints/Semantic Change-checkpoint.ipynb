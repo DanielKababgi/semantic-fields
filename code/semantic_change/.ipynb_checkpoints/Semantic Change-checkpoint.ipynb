{
 "cells": [
  {
   "cell_type": "markdown",
   "id": "f6c91765-8085-4c75-91d3-eb20ab4a04c2",
   "metadata": {},
   "source": [
    "# Semantic Change\n",
    "\n",
    "## Schritte\n",
    "\n",
    "- Lade Metadaten\n",
    "- Lade Korpus\n",
    "- Trainiere Modelle\n",
    "- Vergleiche für alle Worte die 100 nächsten Nachbarn in Aufklaerung und Kunstepoche\n",
    "    -> Siehe dafür Zeta-Heatmaps Code\n",
    "- Mach ne csv mit allen Worten und Übereinstimmung in den beiden Modellen\n",
    "\n",
    "## Metadaten und Corpus"
   ]
  },
  {
   "cell_type": "code",
   "execution_count": 1,
   "id": "7009bfd1-91aa-4fb8-b3e6-f57baeaee12c",
   "metadata": {},
   "outputs": [
    {
     "data": {
      "text/html": [
       "<div>\n",
       "<style scoped>\n",
       "    .dataframe tbody tr th:only-of-type {\n",
       "        vertical-align: middle;\n",
       "    }\n",
       "\n",
       "    .dataframe tbody tr th {\n",
       "        vertical-align: top;\n",
       "    }\n",
       "\n",
       "    .dataframe thead th {\n",
       "        text-align: right;\n",
       "    }\n",
       "</style>\n",
       "<table border=\"1\" class=\"dataframe\">\n",
       "  <thead>\n",
       "    <tr style=\"text-align: right;\">\n",
       "      <th></th>\n",
       "      <th>Unnamed: 0</th>\n",
       "      <th>id</th>\n",
       "      <th>title</th>\n",
       "      <th>author</th>\n",
       "      <th>period</th>\n",
       "      <th>type</th>\n",
       "      <th>genre</th>\n",
       "      <th>date</th>\n",
       "      <th>file</th>\n",
       "      <th>source</th>\n",
       "      <th>annotation</th>\n",
       "      <th>tokens_cleaned</th>\n",
       "    </tr>\n",
       "  </thead>\n",
       "  <tbody>\n",
       "    <tr>\n",
       "      <th>0</th>\n",
       "      <td>0</td>\n",
       "      <td>1</td>\n",
       "      <td>Der sterbende Cato</td>\n",
       "      <td>Gottsched</td>\n",
       "      <td>Aufklaerung</td>\n",
       "      <td>Tragedy</td>\n",
       "      <td>drama</td>\n",
       "      <td>1731</td>\n",
       "      <td>gottsched-der-sterbende-cato.xml</td>\n",
       "      <td>https://github.com/dracor-org/gerdracor</td>\n",
       "      <td>NaN</td>\n",
       "      <td>22047</td>\n",
       "    </tr>\n",
       "    <tr>\n",
       "      <th>1</th>\n",
       "      <td>1</td>\n",
       "      <td>2</td>\n",
       "      <td>Ein Deutsches Vorspiel</td>\n",
       "      <td>Neuber</td>\n",
       "      <td>Aufklaerung</td>\n",
       "      <td>NaN</td>\n",
       "      <td>drama</td>\n",
       "      <td>1734</td>\n",
       "      <td>neuber-ein-deutsches-vorspiel.xml</td>\n",
       "      <td>https://github.com/dracor-org/gerdracor</td>\n",
       "      <td>NaN</td>\n",
       "      <td>6480</td>\n",
       "    </tr>\n",
       "    <tr>\n",
       "      <th>2</th>\n",
       "      <td>2</td>\n",
       "      <td>3</td>\n",
       "      <td>Die Pietisterey im Fischbein-Rocke oder Die Do...</td>\n",
       "      <td>Gottsched</td>\n",
       "      <td>Aufklaerung</td>\n",
       "      <td>Comedy</td>\n",
       "      <td>drama</td>\n",
       "      <td>1736</td>\n",
       "      <td>gottschedin-die-pietisterey-im-fischbein-rocke...</td>\n",
       "      <td>https://github.com/dracor-org/gerdracor</td>\n",
       "      <td>NaN</td>\n",
       "      <td>27691</td>\n",
       "    </tr>\n",
       "    <tr>\n",
       "      <th>3</th>\n",
       "      <td>3</td>\n",
       "      <td>4</td>\n",
       "      <td>Die von der Weisheit wider die Unwissenheit be...</td>\n",
       "      <td>Neuber</td>\n",
       "      <td>Aufklaerung</td>\n",
       "      <td>NaN</td>\n",
       "      <td>drama</td>\n",
       "      <td>1736</td>\n",
       "      <td>neuber-die-beschuetzte-schauspielkunst.xml</td>\n",
       "      <td>https://github.com/dracor-org/gerdracor</td>\n",
       "      <td>NaN</td>\n",
       "      <td>7377</td>\n",
       "    </tr>\n",
       "    <tr>\n",
       "      <th>4</th>\n",
       "      <td>4</td>\n",
       "      <td>5</td>\n",
       "      <td>Die Verehrung der Vollkommenheit durch die geb...</td>\n",
       "      <td>Neuber</td>\n",
       "      <td>Aufklaerung</td>\n",
       "      <td>NaN</td>\n",
       "      <td>drama</td>\n",
       "      <td>1737</td>\n",
       "      <td>neuber-die-verehrung-der-vollkommenheit.xml</td>\n",
       "      <td>https://github.com/dracor-org/gerdracor</td>\n",
       "      <td>NaN</td>\n",
       "      <td>7091</td>\n",
       "    </tr>\n",
       "  </tbody>\n",
       "</table>\n",
       "</div>"
      ],
      "text/plain": [
       "   Unnamed: 0  id                                              title  \\\n",
       "0           0   1                                 Der sterbende Cato   \n",
       "1           1   2                             Ein Deutsches Vorspiel   \n",
       "2           2   3  Die Pietisterey im Fischbein-Rocke oder Die Do...   \n",
       "3           3   4  Die von der Weisheit wider die Unwissenheit be...   \n",
       "4           4   5  Die Verehrung der Vollkommenheit durch die geb...   \n",
       "\n",
       "      author       period     type  genre  date  \\\n",
       "0  Gottsched  Aufklaerung  Tragedy  drama  1731   \n",
       "1     Neuber  Aufklaerung      NaN  drama  1734   \n",
       "2  Gottsched  Aufklaerung   Comedy  drama  1736   \n",
       "3     Neuber  Aufklaerung      NaN  drama  1736   \n",
       "4     Neuber  Aufklaerung      NaN  drama  1737   \n",
       "\n",
       "                                                file  \\\n",
       "0                   gottsched-der-sterbende-cato.xml   \n",
       "1                  neuber-ein-deutsches-vorspiel.xml   \n",
       "2  gottschedin-die-pietisterey-im-fischbein-rocke...   \n",
       "3         neuber-die-beschuetzte-schauspielkunst.xml   \n",
       "4        neuber-die-verehrung-der-vollkommenheit.xml   \n",
       "\n",
       "                                    source  annotation  tokens_cleaned  \n",
       "0  https://github.com/dracor-org/gerdracor         NaN           22047  \n",
       "1  https://github.com/dracor-org/gerdracor         NaN            6480  \n",
       "2  https://github.com/dracor-org/gerdracor         NaN           27691  \n",
       "3  https://github.com/dracor-org/gerdracor         NaN            7377  \n",
       "4  https://github.com/dracor-org/gerdracor         NaN            7091  "
      ]
     },
     "execution_count": 1,
     "metadata": {},
     "output_type": "execute_result"
    }
   ],
   "source": [
    "import pandas as pd\n",
    "\n",
    "meta = pd.read_csv(\"meta_drama.csv\", encoding = \"utf8\")\n",
    "meta.head()"
   ]
  },
  {
   "cell_type": "code",
   "execution_count": 2,
   "id": "2027fe9f-84e9-4896-b5a7-6e9f19b3cec9",
   "metadata": {},
   "outputs": [],
   "source": [
    "def load_corpus(path, df):\n",
    "    from numpy import append \n",
    "\n",
    "    texts = []\n",
    "    filenames = []\n",
    "    for filename in df[\"file\"]:\n",
    "        with open(path + filename, 'r', encoding=\"utf8\") as f:\n",
    "            texts.append(f.read())\n",
    "\n",
    "        filenames.append(filename)    \n",
    "    return texts, filenames"
   ]
  },
  {
   "cell_type": "code",
   "execution_count": 3,
   "id": "e7f6e653-f195-437a-b050-db6ba63a2b4f",
   "metadata": {},
   "outputs": [],
   "source": [
    "def load_corpus_drama(path):\n",
    "    from numpy import append \n",
    "    from os import listdir\n",
    "    \n",
    "    texts = []\n",
    "    filenames = []\n",
    "    for filename in listdir(path):\n",
    "        with open(path + \"/\" + filename, 'r', encoding = \"utf16\") as f:\n",
    "            texts.append(f.read())\n",
    "\n",
    "        filenames.append(filename)    \n",
    "    return texts, filenames"
   ]
  },
  {
   "cell_type": "code",
   "execution_count": 4,
   "id": "bfb3931f-e0e5-4920-857c-6e6970aa2fda",
   "metadata": {},
   "outputs": [],
   "source": [
    "texts_aufklaerung, filenames_aufklaerung = load_corpus(\"corpora/cleaned_normalized/corpus_drama/\", meta.loc[meta[\"period\"]==\"Aufklaerung\"])\n",
    "texts_kunstepoche, filenames_kunstepoche = load_corpus(\"corpora/cleaned_normalized/corpus_drama/\", meta.loc[meta[\"period\"]==\"Kunstepoche\"])\n",
    "texts, filenames = load_corpus(\"corpora/cleaned_normalized/corpus_drama/\", meta)"
   ]
  },
  {
   "cell_type": "code",
   "execution_count": 5,
   "id": "54a314fa-f4ba-411d-9616-2fd245fd9ac2",
   "metadata": {},
   "outputs": [],
   "source": [
    "# texts, filenames = load_corpus_drama(\"corpora/cleaned_normalized/corpus_drama/\")"
   ]
  },
  {
   "cell_type": "code",
   "execution_count": 6,
   "id": "6de27f61-10a9-49ee-af35-46959c842cfe",
   "metadata": {},
   "outputs": [],
   "source": [
    "# texts_aufklaerung = []\n",
    "# texts_kunstepoche = []\n",
    "\n",
    "# for i in range(len(texts)):\n",
    "#     if \"_aufklaerung\" in filenames[i]:\n",
    "#         texts_aufklaerung.append(texts[i])\n",
    "#     else:\n",
    "#         texts_kunstepoche.append(texts[i])"
   ]
  },
  {
   "cell_type": "code",
   "execution_count": 7,
   "id": "4d368410-478e-4937-9e4f-66915f4aa374",
   "metadata": {},
   "outputs": [
    {
     "data": {
      "text/plain": [
       "117"
      ]
     },
     "execution_count": 7,
     "metadata": {},
     "output_type": "execute_result"
    }
   ],
   "source": [
    "len(texts_aufklaerung)"
   ]
  },
  {
   "cell_type": "code",
   "execution_count": 8,
   "id": "9ee69905-7cc6-4dde-8b0b-6d7b65668d7d",
   "metadata": {},
   "outputs": [
    {
     "data": {
      "text/plain": [
       "'Johann Christoph Gottsched Cato Trauerspiel Widmung Memoriam Adolf Vogler -- -- -- -- Herr Verfasser'"
      ]
     },
     "execution_count": 8,
     "metadata": {},
     "output_type": "execute_result"
    }
   ],
   "source": [
    "texts_aufklaerung[0][:100]"
   ]
  },
  {
   "cell_type": "code",
   "execution_count": 9,
   "id": "7dcd371b-cc3c-47ef-aa5c-be52e571b2bf",
   "metadata": {},
   "outputs": [
    {
     "data": {
      "text/plain": [
       "206"
      ]
     },
     "execution_count": 9,
     "metadata": {},
     "output_type": "execute_result"
    }
   ],
   "source": [
    "len(texts_kunstepoche)"
   ]
  },
  {
   "cell_type": "code",
   "execution_count": 10,
   "id": "13f0b6aa-e357-4da4-be1a-43d77fe0936e",
   "metadata": {},
   "outputs": [
    {
     "data": {
      "text/plain": [
       "'November August Kotzebue Indianer England Lustspiel aufzüg Widmung Freund Hueck Reval Mäster Strusse'"
      ]
     },
     "execution_count": 10,
     "metadata": {},
     "output_type": "execute_result"
    }
   ],
   "source": [
    "texts_kunstepoche[0][:100]"
   ]
  },
  {
   "cell_type": "code",
   "execution_count": 11,
   "id": "08cea29e-d00e-4856-bf17-1e95beb6ed4e",
   "metadata": {},
   "outputs": [
    {
     "data": {
      "text/plain": [
       "323"
      ]
     },
     "execution_count": 11,
     "metadata": {},
     "output_type": "execute_result"
    }
   ],
   "source": [
    "len(texts)"
   ]
  },
  {
   "cell_type": "code",
   "execution_count": 12,
   "id": "bf410573-93c4-461a-b752-d6f7e990de53",
   "metadata": {},
   "outputs": [],
   "source": [
    "def make_sent(texts):\n",
    "    sent = []\n",
    "    for text in texts:\n",
    "        wordlist=text.split()\n",
    "        sent_text = []\n",
    "        for word in wordlist:\n",
    "            sent_text.append(word.lower())\n",
    "        sent.append(sent_text)\n",
    "    return sent"
   ]
  },
  {
   "cell_type": "code",
   "execution_count": 13,
   "id": "4edb3db4-6525-4af9-b22d-c317c7aa8e6e",
   "metadata": {},
   "outputs": [],
   "source": [
    "sent_aufklaerung = make_sent(texts_aufklaerung)\n",
    "sent_kunstepoche = make_sent(texts_kunstepoche)\n",
    "sent = make_sent(texts)"
   ]
  },
  {
   "cell_type": "code",
   "execution_count": 14,
   "id": "b4b3a61a-2e2b-4734-921d-52cbecfb24b5",
   "metadata": {},
   "outputs": [
    {
     "data": {
      "text/plain": [
       "['johann',\n",
       " 'christoph',\n",
       " 'gottsched',\n",
       " 'cato',\n",
       " 'trauerspiel',\n",
       " 'widmung',\n",
       " 'memoriam',\n",
       " 'adolf',\n",
       " 'vogler',\n",
       " '--']"
      ]
     },
     "execution_count": 14,
     "metadata": {},
     "output_type": "execute_result"
    }
   ],
   "source": [
    "sent_aufklaerung[0][:10]"
   ]
  },
  {
   "cell_type": "code",
   "execution_count": 15,
   "id": "84624004-45c9-4cfe-8c78-5a3c3cfe5192",
   "metadata": {},
   "outputs": [
    {
     "data": {
      "text/plain": [
       "['november',\n",
       " 'august',\n",
       " 'kotzebue',\n",
       " 'indianer',\n",
       " 'england',\n",
       " 'lustspiel',\n",
       " 'aufzüg',\n",
       " 'widmung',\n",
       " 'freund',\n",
       " 'hueck']"
      ]
     },
     "execution_count": 15,
     "metadata": {},
     "output_type": "execute_result"
    }
   ],
   "source": [
    "sent_kunstepoche[0][:10]"
   ]
  },
  {
   "cell_type": "markdown",
   "id": "baca7fab-a998-443d-90fb-983da141cc0b",
   "metadata": {},
   "source": [
    "## Basismodell und Hyperparameter"
   ]
  },
  {
   "cell_type": "code",
   "execution_count": 16,
   "id": "5202238d-f213-42b5-9bc5-95e57e1fc897",
   "metadata": {},
   "outputs": [],
   "source": [
    "from gensim.models.phrases import Phrases, Phraser\n",
    "import gensim.models\n",
    "import multiprocessing\n",
    "\n",
    "MIN_COUNT = 10\n",
    "VECTOR_SIZE = 300\n",
    "WINDOW = 5\n",
    "ALPHA = 0.1\n",
    "NEGATIVE = 20"
   ]
  },
  {
   "cell_type": "code",
   "execution_count": 17,
   "id": "cb0241a9-eefd-4dd2-8655-f4c5b77bfe25",
   "metadata": {},
   "outputs": [],
   "source": [
    "def train_model(words1, words2, epochs1, epochs2):\n",
    "    phrases = Phrases(words1, min_count=30, progress_per=10000) # detects multi word expressions\n",
    "\n",
    "    bigram = Phraser(phrases)\n",
    "    sentences1 = bigram[words1]\n",
    "    \n",
    "    model = gensim.models.FastText(min_count=MIN_COUNT,\n",
    "                                   vector_size=VECTOR_SIZE,\n",
    "                                   window = WINDOW,\n",
    "                                   alpha=ALPHA,\n",
    "                                   workers = multiprocessing.cpu_count()-1,\n",
    "                                   negative = NEGATIVE,\n",
    "                                   seed = 42)\n",
    "\n",
    "    model.build_vocab(corpus_iterable=sentences1)\n",
    "\n",
    "    model.train(corpus_iterable=sentences1,\n",
    "                        epochs = epochs1,\n",
    "                        total_examples=model.corpus_count)\n",
    "    \n",
    "    phrases = Phrases(words2, min_count=30, progress_per=10000) # detects multi word expressions\n",
    "\n",
    "    bigram = Phraser(phrases)\n",
    "    sentences2 = bigram[words2]\n",
    "    \n",
    "    model.build_vocab(corpus_iterable=sentences2,\n",
    "                      update=True)\n",
    "    \n",
    "    model.train(corpus_iterable=sentences2,\n",
    "                epochs = epochs2,\n",
    "                total_examples=model.corpus_count)\n",
    "    \n",
    "    return model"
   ]
  },
  {
   "cell_type": "code",
   "execution_count": 18,
   "id": "ec21970d-cbde-4304-9c7b-31be4e237250",
   "metadata": {},
   "outputs": [],
   "source": [
    "model_aufklaerung = train_model(sent, sent_aufklaerung, 25, 25)"
   ]
  },
  {
   "cell_type": "code",
   "execution_count": 19,
   "id": "a0a9ba96-6f60-476b-a641-0d23458d0b88",
   "metadata": {},
   "outputs": [],
   "source": [
    "model_kunstepoche = train_model(sent, sent_kunstepoche, 25, 25)"
   ]
  },
  {
   "cell_type": "code",
   "execution_count": 20,
   "id": "3dcb1e1a-698d-4180-bcba-77f4a0777375",
   "metadata": {},
   "outputs": [
    {
     "data": {
      "text/plain": [
       "[('königinn', 0.5166581869125366),\n",
       " ('marquis', 0.355306476354599),\n",
       " ('könig', 0.3500777781009674),\n",
       " ('marqui', 0.3177785575389862),\n",
       " ('lerma', 0.31547293066978455),\n",
       " ('carlos', 0.30540555715560913),\n",
       " ('marquisin', 0.3021179437637329),\n",
       " ('königl', 0.3012202978134155),\n",
       " ('feenkönigin', 0.30045998096466064),\n",
       " ('olivarez', 0.2941695749759674)]"
      ]
     },
     "execution_count": 20,
     "metadata": {},
     "output_type": "execute_result"
    }
   ],
   "source": [
    "model_aufklaerung.wv.most_similar([\"königin\"])"
   ]
  },
  {
   "cell_type": "code",
   "execution_count": 21,
   "id": "42f6c2db-91c8-47fa-aed2-3664ad9b6d1d",
   "metadata": {},
   "outputs": [
    {
     "data": {
      "text/plain": [
       "[('könig', 0.5415931940078735),\n",
       " ('königinn', 0.4740905165672302),\n",
       " ('königl', 0.408631831407547),\n",
       " ('struensee', 0.3838570713996887),\n",
       " ('feenkönigin', 0.3764101564884186),\n",
       " ('eur_majestät', 0.37184467911720276),\n",
       " ('königlich', 0.3613232970237732),\n",
       " ('könige', 0.35222122073173523),\n",
       " ('graf_struensee', 0.3476984202861786),\n",
       " ('königs', 0.3442992568016052)]"
      ]
     },
     "execution_count": 21,
     "metadata": {},
     "output_type": "execute_result"
    }
   ],
   "source": [
    "model_kunstepoche.wv.most_similar([\"königin\"])"
   ]
  },
  {
   "cell_type": "code",
   "execution_count": 22,
   "id": "68b937bd-6ae6-484b-a20b-1fab856502fe",
   "metadata": {},
   "outputs": [
    {
     "data": {
      "text/plain": [
       "18618"
      ]
     },
     "execution_count": 22,
     "metadata": {},
     "output_type": "execute_result"
    }
   ],
   "source": [
    "len(model_aufklaerung.wv)"
   ]
  },
  {
   "cell_type": "code",
   "execution_count": 23,
   "id": "fe83ee7d-e8f4-4197-bdac-879c144279a5",
   "metadata": {},
   "outputs": [
    {
     "data": {
      "text/plain": [
       "18615"
      ]
     },
     "execution_count": 23,
     "metadata": {},
     "output_type": "execute_result"
    }
   ],
   "source": [
    "len(model_kunstepoche.wv)"
   ]
  },
  {
   "cell_type": "code",
   "execution_count": 24,
   "id": "fdfdaf40-5f8f-4432-a516-01e13618b3ea",
   "metadata": {},
   "outputs": [
    {
     "data": {
      "text/plain": [
       "'--'"
      ]
     },
     "execution_count": 24,
     "metadata": {},
     "output_type": "execute_result"
    }
   ],
   "source": [
    "model_aufklaerung.wv.index_to_key[0]"
   ]
  },
  {
   "cell_type": "code",
   "execution_count": 25,
   "id": "65aaaa5e-053a-4bb5-84e2-4033410bfec1",
   "metadata": {},
   "outputs": [
    {
     "data": {
      "text/plain": [
       "18614"
      ]
     },
     "execution_count": 25,
     "metadata": {},
     "output_type": "execute_result"
    }
   ],
   "source": [
    "len(set(model_aufklaerung.wv.index_to_key).intersection(set(model_kunstepoche.wv.index_to_key)))"
   ]
  },
  {
   "cell_type": "markdown",
   "id": "82fa1f6a-249b-40e4-93f3-8768173631df",
   "metadata": {},
   "source": [
    "## Update models"
   ]
  },
  {
   "cell_type": "markdown",
   "id": "17cc85d6-66eb-4388-b694-ff48b5e045f3",
   "metadata": {},
   "source": [
    "## get wordlist from gensim-output"
   ]
  },
  {
   "cell_type": "code",
   "execution_count": 26,
   "id": "6033bdae-6ea2-458e-a08a-f3f31ff1c66c",
   "metadata": {},
   "outputs": [
    {
     "data": {
      "text/plain": [
       "['könig',\n",
       " 'königinn',\n",
       " 'königl',\n",
       " 'struensee',\n",
       " 'feenkönigin',\n",
       " 'eur_majestät',\n",
       " 'königlich',\n",
       " 'könige',\n",
       " 'graf_struensee',\n",
       " 'königs']"
      ]
     },
     "execution_count": 26,
     "metadata": {},
     "output_type": "execute_result"
    }
   ],
   "source": [
    "wordlist_raw = model_kunstepoche.wv.most_similar([\"königin\"])\n",
    "\n",
    "def make_wordlist_from_gensimoutput(gensim_output):\n",
    "    wordlist = []\n",
    "\n",
    "    for word in gensim_output:\n",
    "        wordlist.append(word[0])\n",
    "\n",
    "    return wordlist\n",
    "\n",
    "make_wordlist_from_gensimoutput(wordlist_raw)"
   ]
  },
  {
   "cell_type": "markdown",
   "id": "b3a58768-18cd-4d09-804d-6d802e71b87f",
   "metadata": {},
   "source": [
    "## Semantic Change"
   ]
  },
  {
   "cell_type": "code",
   "execution_count": 27,
   "id": "0fe8a30e-55cc-4b37-b3df-1fe72d46a31e",
   "metadata": {},
   "outputs": [],
   "source": [
    "def calculate_difference(list_one, list_two):\n",
    "    length_list_one = len(list_one)\n",
    "    \n",
    "    result = set(list_one).intersection(set(list_two))\n",
    "    number_of_same_elements = len(result)\n",
    "    \n",
    "    return number_of_same_elements/length_list_one"
   ]
  },
  {
   "cell_type": "code",
   "execution_count": 28,
   "id": "6ad5090f-7779-4979-a5c9-833c707054e5",
   "metadata": {},
   "outputs": [
    {
     "data": {
      "text/plain": [
       "0.21"
      ]
     },
     "execution_count": 28,
     "metadata": {},
     "output_type": "execute_result"
    }
   ],
   "source": [
    "calculate_difference(make_wordlist_from_gensimoutput(model_aufklaerung.wv.most_similar([\"königin\"], topn=100)),\n",
    "                     make_wordlist_from_gensimoutput(model_kunstepoche.wv.most_similar([\"königin\"], topn=100)))"
   ]
  },
  {
   "cell_type": "code",
   "execution_count": 29,
   "id": "ad6c3fe9-9803-4e32-be03-ac3499d940b9",
   "metadata": {},
   "outputs": [
    {
     "data": {
      "text/plain": [
       "['leute',\n",
       " 'menschlich',\n",
       " 'menschengeschlecht',\n",
       " 'menschenglück',\n",
       " 'mann',\n",
       " 'jung_mensch',\n",
       " 'welt',\n",
       " 'menschenherz',\n",
       " 'menschenfeind',\n",
       " 'tugend']"
      ]
     },
     "execution_count": 29,
     "metadata": {},
     "output_type": "execute_result"
    }
   ],
   "source": [
    "make_wordlist_from_gensimoutput(model_aufklaerung.wv.most_similar([\"mensch\"]))"
   ]
  },
  {
   "cell_type": "code",
   "execution_count": 30,
   "id": "50daf785-2a4f-4a73-b2c2-3f9014ce1a9f",
   "metadata": {},
   "outputs": [
    {
     "data": {
      "text/plain": [
       "['welt',\n",
       " 'menschlich',\n",
       " 'natur',\n",
       " 'glauben',\n",
       " 'leute',\n",
       " 'menschheit',\n",
       " 'ding',\n",
       " 'menschlichkeit',\n",
       " 'leidenschaft',\n",
       " 'mann']"
      ]
     },
     "execution_count": 30,
     "metadata": {},
     "output_type": "execute_result"
    }
   ],
   "source": [
    "make_wordlist_from_gensimoutput(model_kunstepoche.wv.most_similar([\"mensch\"]))"
   ]
  },
  {
   "cell_type": "code",
   "execution_count": 31,
   "id": "b906fdfb-9e1d-44d8-94ce-86caafd43bac",
   "metadata": {},
   "outputs": [],
   "source": [
    "f = open(\"fasttext_semantic_change_list_drama.csv\", \"w\", encoding = \"utf8\")\n",
    "f.write(\"word,score\\n\")\n",
    "f.close()"
   ]
  },
  {
   "cell_type": "code",
   "execution_count": 32,
   "id": "0f7ab75b-5db5-4d13-b54a-da129044e2af",
   "metadata": {},
   "outputs": [],
   "source": [
    "wordlist_models = set(model_aufklaerung.wv.index_to_key).intersection(set(model_kunstepoche.wv.index_to_key))\n",
    "word_freq_df = pd.read_csv(\"code/word_frequency/word_freq_drama.csv\")\n",
    "wordlist = set(wordlist_models).intersection(word_freq_df[\"word\"].loc[word_freq_df[\"count_complete\"]>4])"
   ]
  },
  {
   "cell_type": "code",
   "execution_count": 33,
   "id": "458efddb-90af-453f-8ee3-09521e8dd3ed",
   "metadata": {},
   "outputs": [
    {
     "data": {
      "text/plain": [
       "18224"
      ]
     },
     "execution_count": 33,
     "metadata": {},
     "output_type": "execute_result"
    }
   ],
   "source": [
    "len(wordlist)"
   ]
  },
  {
   "cell_type": "code",
   "execution_count": 34,
   "id": "cff6dc41-ce7a-4e8e-b18a-78f853efc88d",
   "metadata": {},
   "outputs": [],
   "source": [
    "for word in wordlist:\n",
    "    word_list1 = make_wordlist_from_gensimoutput(model_aufklaerung.wv.most_similar([word], topn=100))\n",
    "    word_list2 = make_wordlist_from_gensimoutput(model_kunstepoche.wv.most_similar([word], topn=100))\n",
    "    \n",
    "    score = calculate_difference(word_list1, word_list2)\n",
    "    \n",
    "    f = open(\"fasttext_semantic_change_list_drama.csv\", \"a\", encoding = \"utf8\")\n",
    "    f.write(word.lower() + \",\" + str(score)+ \"\\n\")\n",
    "    f.close()                  "
   ]
  },
  {
   "cell_type": "code",
   "execution_count": 35,
   "id": "6ffa0523-7e09-4787-a01d-bda63535aa3a",
   "metadata": {},
   "outputs": [
    {
     "data": {
      "text/plain": [
       "0.12"
      ]
     },
     "execution_count": 35,
     "metadata": {},
     "output_type": "execute_result"
    }
   ],
   "source": [
    "word = \"müssen\"\n",
    "\n",
    "calculate_difference(make_wordlist_from_gensimoutput(model_aufklaerung.wv.most_similar([word], topn=100)),\n",
    "                     make_wordlist_from_gensimoutput(model_kunstepoche.wv.most_similar([word], topn=100)))"
   ]
  }
 ],
 "metadata": {
  "kernelspec": {
   "display_name": "Python 3 (ipykernel)",
   "language": "python",
   "name": "python3"
  },
  "language_info": {
   "codemirror_mode": {
    "name": "ipython",
    "version": 3
   },
   "file_extension": ".py",
   "mimetype": "text/x-python",
   "name": "python",
   "nbconvert_exporter": "python",
   "pygments_lexer": "ipython3",
   "version": "3.9.13"
  }
 },
 "nbformat": 4,
 "nbformat_minor": 5
}
