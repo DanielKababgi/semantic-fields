{
 "cells": [
  {
   "cell_type": "markdown",
   "id": "f6c91765-8085-4c75-91d3-eb20ab4a04c2",
   "metadata": {},
   "source": [
    "# Semantic Change\n",
    "\n",
    "## Schritte\n",
    "\n",
    "- Lade Metadaten\n",
    "- Lade Korpus\n",
    "- Trainiere Modelle\n",
    "- Vergleiche für alle Worte die 100 nächsten Nachbarn in Aufklaerung und Kunstepoche\n",
    "    -> Siehe dafür Zeta-Heatmaps Code\n",
    "- Mach ne csv mit allen Worten und Übereinstimmung in den beiden Modellen\n",
    "\n",
    "## Metadaten und Corpus"
   ]
  },
  {
   "cell_type": "code",
   "execution_count": 1,
   "id": "7009bfd1-91aa-4fb8-b3e6-f57baeaee12c",
   "metadata": {},
   "outputs": [
    {
     "data": {
      "text/html": [
       "<div>\n",
       "<style scoped>\n",
       "    .dataframe tbody tr th:only-of-type {\n",
       "        vertical-align: middle;\n",
       "    }\n",
       "\n",
       "    .dataframe tbody tr th {\n",
       "        vertical-align: top;\n",
       "    }\n",
       "\n",
       "    .dataframe thead th {\n",
       "        text-align: right;\n",
       "    }\n",
       "</style>\n",
       "<table border=\"1\" class=\"dataframe\">\n",
       "  <thead>\n",
       "    <tr style=\"text-align: right;\">\n",
       "      <th></th>\n",
       "      <th>Unnamed: 0</th>\n",
       "      <th>id</th>\n",
       "      <th>title</th>\n",
       "      <th>author</th>\n",
       "      <th>author_birth_year</th>\n",
       "      <th>period</th>\n",
       "      <th>type</th>\n",
       "      <th>genre</th>\n",
       "      <th>date</th>\n",
       "      <th>file</th>\n",
       "      <th>source</th>\n",
       "      <th>annotation</th>\n",
       "      <th>tokens_cleaned</th>\n",
       "    </tr>\n",
       "  </thead>\n",
       "  <tbody>\n",
       "    <tr>\n",
       "      <th>0</th>\n",
       "      <td>0</td>\n",
       "      <td>1</td>\n",
       "      <td>Der sterbende Cato</td>\n",
       "      <td>Gottsched</td>\n",
       "      <td>1700</td>\n",
       "      <td>Aufklärung</td>\n",
       "      <td>Tragedy</td>\n",
       "      <td>drama</td>\n",
       "      <td>1731</td>\n",
       "      <td>gottsched-der-sterbende-cato.xml</td>\n",
       "      <td>https://github.com/dracor-org/gerdracor</td>\n",
       "      <td>NaN</td>\n",
       "      <td>22047</td>\n",
       "    </tr>\n",
       "    <tr>\n",
       "      <th>1</th>\n",
       "      <td>1</td>\n",
       "      <td>2</td>\n",
       "      <td>Ein Deutsches Vorspiel</td>\n",
       "      <td>Neuber</td>\n",
       "      <td>1697</td>\n",
       "      <td>Aufklärung</td>\n",
       "      <td>NaN</td>\n",
       "      <td>drama</td>\n",
       "      <td>1734</td>\n",
       "      <td>neuber-ein-deutsches-vorspiel.xml</td>\n",
       "      <td>https://github.com/dracor-org/gerdracor</td>\n",
       "      <td>NaN</td>\n",
       "      <td>6480</td>\n",
       "    </tr>\n",
       "    <tr>\n",
       "      <th>2</th>\n",
       "      <td>2</td>\n",
       "      <td>3</td>\n",
       "      <td>Die Pietisterey im Fischbein-Rocke oder Die Do...</td>\n",
       "      <td>Gottsched</td>\n",
       "      <td>1700</td>\n",
       "      <td>Aufklärung</td>\n",
       "      <td>Comedy</td>\n",
       "      <td>drama</td>\n",
       "      <td>1736</td>\n",
       "      <td>gottschedin-die-pietisterey-im-fischbein-rocke...</td>\n",
       "      <td>https://github.com/dracor-org/gerdracor</td>\n",
       "      <td>NaN</td>\n",
       "      <td>27691</td>\n",
       "    </tr>\n",
       "    <tr>\n",
       "      <th>3</th>\n",
       "      <td>3</td>\n",
       "      <td>4</td>\n",
       "      <td>Die von der Weisheit wider die Unwissenheit be...</td>\n",
       "      <td>Neuber</td>\n",
       "      <td>1697</td>\n",
       "      <td>Aufklärung</td>\n",
       "      <td>NaN</td>\n",
       "      <td>drama</td>\n",
       "      <td>1736</td>\n",
       "      <td>neuber-die-beschuetzte-schauspielkunst.xml</td>\n",
       "      <td>https://github.com/dracor-org/gerdracor</td>\n",
       "      <td>NaN</td>\n",
       "      <td>7377</td>\n",
       "    </tr>\n",
       "    <tr>\n",
       "      <th>4</th>\n",
       "      <td>4</td>\n",
       "      <td>5</td>\n",
       "      <td>Die Verehrung der Vollkommenheit durch die geb...</td>\n",
       "      <td>Neuber</td>\n",
       "      <td>1697</td>\n",
       "      <td>Aufklärung</td>\n",
       "      <td>NaN</td>\n",
       "      <td>drama</td>\n",
       "      <td>1737</td>\n",
       "      <td>neuber-die-verehrung-der-vollkommenheit.xml</td>\n",
       "      <td>https://github.com/dracor-org/gerdracor</td>\n",
       "      <td>NaN</td>\n",
       "      <td>7091</td>\n",
       "    </tr>\n",
       "  </tbody>\n",
       "</table>\n",
       "</div>"
      ],
      "text/plain": [
       "   Unnamed: 0  id                                              title  \\\n",
       "0           0   1                                 Der sterbende Cato   \n",
       "1           1   2                             Ein Deutsches Vorspiel   \n",
       "2           2   3  Die Pietisterey im Fischbein-Rocke oder Die Do...   \n",
       "3           3   4  Die von der Weisheit wider die Unwissenheit be...   \n",
       "4           4   5  Die Verehrung der Vollkommenheit durch die geb...   \n",
       "\n",
       "      author  author_birth_year      period     type  genre  date  \\\n",
       "0  Gottsched               1700  Aufklärung  Tragedy  drama  1731   \n",
       "1     Neuber               1697  Aufklärung      NaN  drama  1734   \n",
       "2  Gottsched               1700  Aufklärung   Comedy  drama  1736   \n",
       "3     Neuber               1697  Aufklärung      NaN  drama  1736   \n",
       "4     Neuber               1697  Aufklärung      NaN  drama  1737   \n",
       "\n",
       "                                                file  \\\n",
       "0                   gottsched-der-sterbende-cato.xml   \n",
       "1                  neuber-ein-deutsches-vorspiel.xml   \n",
       "2  gottschedin-die-pietisterey-im-fischbein-rocke...   \n",
       "3         neuber-die-beschuetzte-schauspielkunst.xml   \n",
       "4        neuber-die-verehrung-der-vollkommenheit.xml   \n",
       "\n",
       "                                    source  annotation  tokens_cleaned  \n",
       "0  https://github.com/dracor-org/gerdracor         NaN           22047  \n",
       "1  https://github.com/dracor-org/gerdracor         NaN            6480  \n",
       "2  https://github.com/dracor-org/gerdracor         NaN           27691  \n",
       "3  https://github.com/dracor-org/gerdracor         NaN            7377  \n",
       "4  https://github.com/dracor-org/gerdracor         NaN            7091  "
      ]
     },
     "execution_count": 1,
     "metadata": {},
     "output_type": "execute_result"
    }
   ],
   "source": [
    "import pandas as pd\n",
    "\n",
    "meta = pd.read_csv(\"meta_drama.csv\", encoding = \"utf8\")\n",
    "meta.head()"
   ]
  },
  {
   "cell_type": "code",
   "execution_count": 2,
   "id": "2027fe9f-84e9-4896-b5a7-6e9f19b3cec9",
   "metadata": {},
   "outputs": [],
   "source": [
    "def load_corpus(path, df):\n",
    "    from numpy import append \n",
    "\n",
    "    texts = []\n",
    "    filenames = []\n",
    "    for filename in df[\"file\"]:\n",
    "        with open(path + filename, 'r', encoding=\"utf8\") as f:\n",
    "            texts.append(f.read())\n",
    "\n",
    "        filenames.append(filename)    \n",
    "    return texts, filenames"
   ]
  },
  {
   "cell_type": "code",
   "execution_count": 3,
   "id": "e7f6e653-f195-437a-b050-db6ba63a2b4f",
   "metadata": {},
   "outputs": [],
   "source": [
    "def load_corpus_nometa(path):\n",
    "    from numpy import append \n",
    "    from os import listdir\n",
    "    \n",
    "    texts = []\n",
    "    filenames = []\n",
    "    for filename in listdir(path):\n",
    "        with open(path + \"/\" + filename, 'r', encoding = \"utf8\") as f:\n",
    "            texts.append(f.read())\n",
    "\n",
    "        filenames.append(filename)    \n",
    "    return texts, filenames"
   ]
  },
  {
   "cell_type": "code",
   "execution_count": 4,
   "id": "bfb3931f-e0e5-4920-857c-6e6970aa2fda",
   "metadata": {},
   "outputs": [],
   "source": [
    "texts_aufklaerung, filenames_aufklaerung = load_corpus(\"corpora/cleaned_normalized/corpus_drama/\", meta.loc[meta[\"author_birth_year\"]<1770])\n",
    "texts_kunstepoche, filenames_kunstepoche = load_corpus(\"corpora/cleaned_normalized/corpus_drama/\", meta.loc[meta[\"author_birth_year\"]>=1770])\n",
    "texts, filenames = load_corpus(\"corpora/cleaned_normalized/corpus_drama/\", meta)"
   ]
  },
  {
   "cell_type": "code",
   "execution_count": 5,
   "id": "54a314fa-f4ba-411d-9616-2fd245fd9ac2",
   "metadata": {},
   "outputs": [],
   "source": [
    "# texts, filenames = load_corpus_nometa(\"corpora/cleaned_normalized/corpus_drama/\")"
   ]
  },
  {
   "cell_type": "code",
   "execution_count": 6,
   "id": "6de27f61-10a9-49ee-af35-46959c842cfe",
   "metadata": {},
   "outputs": [],
   "source": [
    "# texts_aufklaerung = []\n",
    "# texts_kunstepoche = []\n",
    "\n",
    "# for i in range(len(texts)):\n",
    "#     if \"_aufklaerung\" in filenames[i]:\n",
    "#         texts_aufklaerung.append(texts[i])\n",
    "#     else:\n",
    "#         texts_kunstepoche.append(texts[i])"
   ]
  },
  {
   "cell_type": "code",
   "execution_count": 7,
   "id": "4d368410-478e-4937-9e4f-66915f4aa374",
   "metadata": {},
   "outputs": [
    {
     "data": {
      "text/plain": [
       "166"
      ]
     },
     "execution_count": 7,
     "metadata": {},
     "output_type": "execute_result"
    }
   ],
   "source": [
    "len(texts_aufklaerung)"
   ]
  },
  {
   "cell_type": "code",
   "execution_count": 8,
   "id": "9ee69905-7cc6-4dde-8b0b-6d7b65668d7d",
   "metadata": {},
   "outputs": [
    {
     "data": {
      "text/plain": [
       "'Trauerspiel Widmung Herr Verfasser Vorrede Ausgabe unterstehen Tragödie drucken lassen Art Gedichten'"
      ]
     },
     "execution_count": 8,
     "metadata": {},
     "output_type": "execute_result"
    }
   ],
   "source": [
    "texts_aufklaerung[0][:100]"
   ]
  },
  {
   "cell_type": "code",
   "execution_count": 9,
   "id": "7dcd371b-cc3c-47ef-aa5c-be52e571b2bf",
   "metadata": {},
   "outputs": [
    {
     "data": {
      "text/plain": [
       "157"
      ]
     },
     "execution_count": 9,
     "metadata": {},
     "output_type": "execute_result"
    }
   ],
   "source": [
    "len(texts_kunstepoche)"
   ]
  },
  {
   "cell_type": "code",
   "execution_count": 10,
   "id": "13f0b6aa-e357-4da4-be1a-43d77fe0936e",
   "metadata": {},
   "outputs": [
    {
     "data": {
      "text/plain": [
       "'Rauchfangkehrer unentbehrlich Verräter Herrschafte musikalisch Lustspiel aufzüg Person Frau jung Wit'"
      ]
     },
     "execution_count": 10,
     "metadata": {},
     "output_type": "execute_result"
    }
   ],
   "source": [
    "texts_kunstepoche[0][:100]"
   ]
  },
  {
   "cell_type": "code",
   "execution_count": 11,
   "id": "08cea29e-d00e-4856-bf17-1e95beb6ed4e",
   "metadata": {},
   "outputs": [
    {
     "data": {
      "text/plain": [
       "323"
      ]
     },
     "execution_count": 11,
     "metadata": {},
     "output_type": "execute_result"
    }
   ],
   "source": [
    "len(texts)"
   ]
  },
  {
   "cell_type": "code",
   "execution_count": 12,
   "id": "bf410573-93c4-461a-b752-d6f7e990de53",
   "metadata": {},
   "outputs": [],
   "source": [
    "def make_sent(texts):\n",
    "    sent = []\n",
    "    for text in texts:\n",
    "        wordlist=text.split()\n",
    "        sent_text = []\n",
    "        for word in wordlist:\n",
    "            sent_text.append(word.lower())\n",
    "        sent.append(sent_text)\n",
    "    return sent"
   ]
  },
  {
   "cell_type": "code",
   "execution_count": 13,
   "id": "4edb3db4-6525-4af9-b22d-c317c7aa8e6e",
   "metadata": {},
   "outputs": [],
   "source": [
    "sent_aufklaerung = make_sent(texts_aufklaerung)\n",
    "sent_kunstepoche = make_sent(texts_kunstepoche)\n",
    "sent = make_sent(texts)"
   ]
  },
  {
   "cell_type": "code",
   "execution_count": 14,
   "id": "b4b3a61a-2e2b-4734-921d-52cbecfb24b5",
   "metadata": {},
   "outputs": [
    {
     "data": {
      "text/plain": [
       "['trauerspiel',\n",
       " 'widmung',\n",
       " 'herr',\n",
       " 'verfasser',\n",
       " 'vorrede',\n",
       " 'ausgabe',\n",
       " 'unterstehen',\n",
       " 'tragödie',\n",
       " 'drucken',\n",
       " 'lassen']"
      ]
     },
     "execution_count": 14,
     "metadata": {},
     "output_type": "execute_result"
    }
   ],
   "source": [
    "sent_aufklaerung[0][:10]"
   ]
  },
  {
   "cell_type": "code",
   "execution_count": 15,
   "id": "84624004-45c9-4cfe-8c78-5a3c3cfe5192",
   "metadata": {},
   "outputs": [
    {
     "data": {
      "text/plain": [
       "['rauchfangkehrer',\n",
       " 'unentbehrlich',\n",
       " 'verräter',\n",
       " 'herrschafte',\n",
       " 'musikalisch',\n",
       " 'lustspiel',\n",
       " 'aufzüg',\n",
       " 'person',\n",
       " 'frau',\n",
       " 'jung']"
      ]
     },
     "execution_count": 15,
     "metadata": {},
     "output_type": "execute_result"
    }
   ],
   "source": [
    "sent_kunstepoche[0][:10]"
   ]
  },
  {
   "cell_type": "markdown",
   "id": "baca7fab-a998-443d-90fb-983da141cc0b",
   "metadata": {},
   "source": [
    "## Basismodell und Hyperparameter"
   ]
  },
  {
   "cell_type": "code",
   "execution_count": 16,
   "id": "5202238d-f213-42b5-9bc5-95e57e1fc897",
   "metadata": {},
   "outputs": [],
   "source": [
    "from gensim.models.phrases import Phrases, Phraser\n",
    "import gensim.models\n",
    "import multiprocessing\n",
    "\n",
    "MIN_COUNT = 10\n",
    "VECTOR_SIZE = 200\n",
    "WINDOW = 15\n",
    "ALPHA = 0.1\n",
    "NEGATIVE = 5"
   ]
  },
  {
   "cell_type": "code",
   "execution_count": 17,
   "id": "cb0241a9-eefd-4dd2-8655-f4c5b77bfe25",
   "metadata": {},
   "outputs": [],
   "source": [
    "def train_model(words1, words2, epochs1, epochs2):\n",
    "    phrases = Phrases(words1, min_count=30, progress_per=10000) # detects multi word expressions\n",
    "\n",
    "    bigram = Phraser(phrases)\n",
    "    sentences1 = bigram[words1]\n",
    "    \n",
    "    model = gensim.models.FastText(min_count=MIN_COUNT,\n",
    "                                   vector_size=VECTOR_SIZE,\n",
    "                                   window = WINDOW,\n",
    "                                   alpha=ALPHA,\n",
    "                                   workers = multiprocessing.cpu_count()-1,\n",
    "                                   negative = NEGATIVE,\n",
    "                                   seed = 42)\n",
    "\n",
    "    model.build_vocab(corpus_iterable=sentences1)\n",
    "\n",
    "    model.train(corpus_iterable=sentences1,\n",
    "                        epochs = epochs1,\n",
    "                        total_examples=model.corpus_count)\n",
    "    \n",
    "    phrases = Phrases(words2, min_count=30, progress_per=10000) # detects multi word expressions\n",
    "\n",
    "    bigram = Phraser(phrases)\n",
    "    sentences2 = bigram[words2]\n",
    "    \n",
    "    model.build_vocab(corpus_iterable=sentences2,\n",
    "                      update=True)\n",
    "    \n",
    "    model.train(corpus_iterable=sentences2,\n",
    "                epochs = epochs2,\n",
    "                total_examples=model.corpus_count)\n",
    "    \n",
    "    return model"
   ]
  },
  {
   "cell_type": "code",
   "execution_count": 18,
   "id": "ec21970d-cbde-4304-9c7b-31be4e237250",
   "metadata": {},
   "outputs": [
    {
     "ename": "KeyboardInterrupt",
     "evalue": "",
     "output_type": "error",
     "traceback": [
      "\u001b[1;31m---------------------------------------------------------------------------\u001b[0m",
      "\u001b[1;31mKeyboardInterrupt\u001b[0m                         Traceback (most recent call last)",
      "Input \u001b[1;32mIn [18]\u001b[0m, in \u001b[0;36m<cell line: 1>\u001b[1;34m()\u001b[0m\n\u001b[1;32m----> 1\u001b[0m model_aufklaerung \u001b[38;5;241m=\u001b[39m \u001b[43mtrain_model\u001b[49m\u001b[43m(\u001b[49m\u001b[43msent\u001b[49m\u001b[43m,\u001b[49m\u001b[43m \u001b[49m\u001b[43msent_aufklaerung\u001b[49m\u001b[43m,\u001b[49m\u001b[43m \u001b[49m\u001b[38;5;241;43m30\u001b[39;49m\u001b[43m,\u001b[49m\u001b[43m \u001b[49m\u001b[38;5;241;43m30\u001b[39;49m\u001b[43m)\u001b[49m\n",
      "Input \u001b[1;32mIn [17]\u001b[0m, in \u001b[0;36mtrain_model\u001b[1;34m(words1, words2, epochs1, epochs2)\u001b[0m\n\u001b[0;32m      7\u001b[0m model \u001b[38;5;241m=\u001b[39m gensim\u001b[38;5;241m.\u001b[39mmodels\u001b[38;5;241m.\u001b[39mWord2Vec(min_count\u001b[38;5;241m=\u001b[39mMIN_COUNT,\n\u001b[0;32m      8\u001b[0m                                vector_size\u001b[38;5;241m=\u001b[39mVECTOR_SIZE,\n\u001b[0;32m      9\u001b[0m                                window \u001b[38;5;241m=\u001b[39m WINDOW,\n\u001b[1;32m   (...)\u001b[0m\n\u001b[0;32m     12\u001b[0m                                negative \u001b[38;5;241m=\u001b[39m NEGATIVE,\n\u001b[0;32m     13\u001b[0m                                seed \u001b[38;5;241m=\u001b[39m \u001b[38;5;241m42\u001b[39m)\n\u001b[0;32m     15\u001b[0m model\u001b[38;5;241m.\u001b[39mbuild_vocab(corpus_iterable\u001b[38;5;241m=\u001b[39msentences1)\n\u001b[1;32m---> 17\u001b[0m \u001b[43mmodel\u001b[49m\u001b[38;5;241;43m.\u001b[39;49m\u001b[43mtrain\u001b[49m\u001b[43m(\u001b[49m\u001b[43mcorpus_iterable\u001b[49m\u001b[38;5;241;43m=\u001b[39;49m\u001b[43msentences1\u001b[49m\u001b[43m,\u001b[49m\n\u001b[0;32m     18\u001b[0m \u001b[43m                    \u001b[49m\u001b[43mepochs\u001b[49m\u001b[43m \u001b[49m\u001b[38;5;241;43m=\u001b[39;49m\u001b[43m \u001b[49m\u001b[43mepochs1\u001b[49m\u001b[43m,\u001b[49m\n\u001b[0;32m     19\u001b[0m \u001b[43m                    \u001b[49m\u001b[43mtotal_examples\u001b[49m\u001b[38;5;241;43m=\u001b[39;49m\u001b[43mmodel\u001b[49m\u001b[38;5;241;43m.\u001b[39;49m\u001b[43mcorpus_count\u001b[49m\u001b[43m)\u001b[49m\n\u001b[0;32m     21\u001b[0m phrases \u001b[38;5;241m=\u001b[39m Phrases(words2, min_count\u001b[38;5;241m=\u001b[39m\u001b[38;5;241m30\u001b[39m, progress_per\u001b[38;5;241m=\u001b[39m\u001b[38;5;241m10000\u001b[39m) \u001b[38;5;66;03m# detects multi word expressions\u001b[39;00m\n\u001b[0;32m     23\u001b[0m bigram \u001b[38;5;241m=\u001b[39m Phraser(phrases)\n",
      "File \u001b[1;32m~\\AppData\\Roaming\\Python\\Python39\\site-packages\\gensim\\models\\word2vec.py:1070\u001b[0m, in \u001b[0;36mWord2Vec.train\u001b[1;34m(self, corpus_iterable, corpus_file, total_examples, total_words, epochs, start_alpha, end_alpha, word_count, queue_factor, report_delay, compute_loss, callbacks, **kwargs)\u001b[0m\n\u001b[0;32m   1067\u001b[0m     callback\u001b[38;5;241m.\u001b[39mon_epoch_begin(\u001b[38;5;28mself\u001b[39m)\n\u001b[0;32m   1069\u001b[0m \u001b[38;5;28;01mif\u001b[39;00m corpus_iterable \u001b[38;5;129;01mis\u001b[39;00m \u001b[38;5;129;01mnot\u001b[39;00m \u001b[38;5;28;01mNone\u001b[39;00m:\n\u001b[1;32m-> 1070\u001b[0m     trained_word_count_epoch, raw_word_count_epoch, job_tally_epoch \u001b[38;5;241m=\u001b[39m \u001b[38;5;28mself\u001b[39m\u001b[38;5;241m.\u001b[39m_train_epoch(\n\u001b[0;32m   1071\u001b[0m         corpus_iterable, cur_epoch\u001b[38;5;241m=\u001b[39mcur_epoch, total_examples\u001b[38;5;241m=\u001b[39mtotal_examples,\n\u001b[0;32m   1072\u001b[0m         total_words\u001b[38;5;241m=\u001b[39mtotal_words, queue_factor\u001b[38;5;241m=\u001b[39mqueue_factor, report_delay\u001b[38;5;241m=\u001b[39mreport_delay,\n\u001b[0;32m   1073\u001b[0m         callbacks\u001b[38;5;241m=\u001b[39mcallbacks, \u001b[38;5;241m*\u001b[39m\u001b[38;5;241m*\u001b[39mkwargs)\n\u001b[0;32m   1074\u001b[0m \u001b[38;5;28;01melse\u001b[39;00m:\n\u001b[0;32m   1075\u001b[0m     trained_word_count_epoch, raw_word_count_epoch, job_tally_epoch \u001b[38;5;241m=\u001b[39m \u001b[38;5;28mself\u001b[39m\u001b[38;5;241m.\u001b[39m_train_epoch_corpusfile(\n\u001b[0;32m   1076\u001b[0m         corpus_file, cur_epoch\u001b[38;5;241m=\u001b[39mcur_epoch, total_examples\u001b[38;5;241m=\u001b[39mtotal_examples, total_words\u001b[38;5;241m=\u001b[39mtotal_words,\n\u001b[0;32m   1077\u001b[0m         callbacks\u001b[38;5;241m=\u001b[39mcallbacks, \u001b[38;5;241m*\u001b[39m\u001b[38;5;241m*\u001b[39mkwargs)\n",
      "File \u001b[1;32m~\\AppData\\Roaming\\Python\\Python39\\site-packages\\gensim\\models\\word2vec.py:1431\u001b[0m, in \u001b[0;36mWord2Vec._train_epoch\u001b[1;34m(self, data_iterable, cur_epoch, total_examples, total_words, queue_factor, report_delay, callbacks)\u001b[0m\n\u001b[0;32m   1428\u001b[0m     thread\u001b[38;5;241m.\u001b[39mdaemon \u001b[38;5;241m=\u001b[39m \u001b[38;5;28;01mTrue\u001b[39;00m  \u001b[38;5;66;03m# make interrupting the process with ctrl+c easier\u001b[39;00m\n\u001b[0;32m   1429\u001b[0m     thread\u001b[38;5;241m.\u001b[39mstart()\n\u001b[1;32m-> 1431\u001b[0m trained_word_count, raw_word_count, job_tally \u001b[38;5;241m=\u001b[39m \u001b[38;5;28;43mself\u001b[39;49m\u001b[38;5;241;43m.\u001b[39;49m\u001b[43m_log_epoch_progress\u001b[49m\u001b[43m(\u001b[49m\n\u001b[0;32m   1432\u001b[0m \u001b[43m    \u001b[49m\u001b[43mprogress_queue\u001b[49m\u001b[43m,\u001b[49m\u001b[43m \u001b[49m\u001b[43mjob_queue\u001b[49m\u001b[43m,\u001b[49m\u001b[43m \u001b[49m\u001b[43mcur_epoch\u001b[49m\u001b[38;5;241;43m=\u001b[39;49m\u001b[43mcur_epoch\u001b[49m\u001b[43m,\u001b[49m\u001b[43m \u001b[49m\u001b[43mtotal_examples\u001b[49m\u001b[38;5;241;43m=\u001b[39;49m\u001b[43mtotal_examples\u001b[49m\u001b[43m,\u001b[49m\n\u001b[0;32m   1433\u001b[0m \u001b[43m    \u001b[49m\u001b[43mtotal_words\u001b[49m\u001b[38;5;241;43m=\u001b[39;49m\u001b[43mtotal_words\u001b[49m\u001b[43m,\u001b[49m\u001b[43m \u001b[49m\u001b[43mreport_delay\u001b[49m\u001b[38;5;241;43m=\u001b[39;49m\u001b[43mreport_delay\u001b[49m\u001b[43m,\u001b[49m\u001b[43m \u001b[49m\u001b[43mis_corpus_file_mode\u001b[49m\u001b[38;5;241;43m=\u001b[39;49m\u001b[38;5;28;43;01mFalse\u001b[39;49;00m\u001b[43m,\u001b[49m\n\u001b[0;32m   1434\u001b[0m \u001b[43m\u001b[49m\u001b[43m)\u001b[49m\n\u001b[0;32m   1436\u001b[0m \u001b[38;5;28;01mreturn\u001b[39;00m trained_word_count, raw_word_count, job_tally\n",
      "File \u001b[1;32m~\\AppData\\Roaming\\Python\\Python39\\site-packages\\gensim\\models\\word2vec.py:1286\u001b[0m, in \u001b[0;36mWord2Vec._log_epoch_progress\u001b[1;34m(self, progress_queue, job_queue, cur_epoch, total_examples, total_words, report_delay, is_corpus_file_mode)\u001b[0m\n\u001b[0;32m   1283\u001b[0m unfinished_worker_count \u001b[38;5;241m=\u001b[39m \u001b[38;5;28mself\u001b[39m\u001b[38;5;241m.\u001b[39mworkers\n\u001b[0;32m   1285\u001b[0m \u001b[38;5;28;01mwhile\u001b[39;00m unfinished_worker_count \u001b[38;5;241m>\u001b[39m \u001b[38;5;241m0\u001b[39m:\n\u001b[1;32m-> 1286\u001b[0m     report \u001b[38;5;241m=\u001b[39m \u001b[43mprogress_queue\u001b[49m\u001b[38;5;241;43m.\u001b[39;49m\u001b[43mget\u001b[49m\u001b[43m(\u001b[49m\u001b[43m)\u001b[49m  \u001b[38;5;66;03m# blocks if workers too slow\u001b[39;00m\n\u001b[0;32m   1287\u001b[0m     \u001b[38;5;28;01mif\u001b[39;00m report \u001b[38;5;129;01mis\u001b[39;00m \u001b[38;5;28;01mNone\u001b[39;00m:  \u001b[38;5;66;03m# a thread reporting that it finished\u001b[39;00m\n\u001b[0;32m   1288\u001b[0m         unfinished_worker_count \u001b[38;5;241m-\u001b[39m\u001b[38;5;241m=\u001b[39m \u001b[38;5;241m1\u001b[39m\n",
      "File \u001b[1;32mC:\\ProgramData\\Anaconda3\\envs\\Masterarbeit\\lib\\queue.py:171\u001b[0m, in \u001b[0;36mQueue.get\u001b[1;34m(self, block, timeout)\u001b[0m\n\u001b[0;32m    169\u001b[0m \u001b[38;5;28;01melif\u001b[39;00m timeout \u001b[38;5;129;01mis\u001b[39;00m \u001b[38;5;28;01mNone\u001b[39;00m:\n\u001b[0;32m    170\u001b[0m     \u001b[38;5;28;01mwhile\u001b[39;00m \u001b[38;5;129;01mnot\u001b[39;00m \u001b[38;5;28mself\u001b[39m\u001b[38;5;241m.\u001b[39m_qsize():\n\u001b[1;32m--> 171\u001b[0m         \u001b[38;5;28;43mself\u001b[39;49m\u001b[38;5;241;43m.\u001b[39;49m\u001b[43mnot_empty\u001b[49m\u001b[38;5;241;43m.\u001b[39;49m\u001b[43mwait\u001b[49m\u001b[43m(\u001b[49m\u001b[43m)\u001b[49m\n\u001b[0;32m    172\u001b[0m \u001b[38;5;28;01melif\u001b[39;00m timeout \u001b[38;5;241m<\u001b[39m \u001b[38;5;241m0\u001b[39m:\n\u001b[0;32m    173\u001b[0m     \u001b[38;5;28;01mraise\u001b[39;00m \u001b[38;5;167;01mValueError\u001b[39;00m(\u001b[38;5;124m\"\u001b[39m\u001b[38;5;124m'\u001b[39m\u001b[38;5;124mtimeout\u001b[39m\u001b[38;5;124m'\u001b[39m\u001b[38;5;124m must be a non-negative number\u001b[39m\u001b[38;5;124m\"\u001b[39m)\n",
      "File \u001b[1;32mC:\\ProgramData\\Anaconda3\\envs\\Masterarbeit\\lib\\threading.py:312\u001b[0m, in \u001b[0;36mCondition.wait\u001b[1;34m(self, timeout)\u001b[0m\n\u001b[0;32m    310\u001b[0m \u001b[38;5;28;01mtry\u001b[39;00m:    \u001b[38;5;66;03m# restore state no matter what (e.g., KeyboardInterrupt)\u001b[39;00m\n\u001b[0;32m    311\u001b[0m     \u001b[38;5;28;01mif\u001b[39;00m timeout \u001b[38;5;129;01mis\u001b[39;00m \u001b[38;5;28;01mNone\u001b[39;00m:\n\u001b[1;32m--> 312\u001b[0m         \u001b[43mwaiter\u001b[49m\u001b[38;5;241;43m.\u001b[39;49m\u001b[43macquire\u001b[49m\u001b[43m(\u001b[49m\u001b[43m)\u001b[49m\n\u001b[0;32m    313\u001b[0m         gotit \u001b[38;5;241m=\u001b[39m \u001b[38;5;28;01mTrue\u001b[39;00m\n\u001b[0;32m    314\u001b[0m     \u001b[38;5;28;01melse\u001b[39;00m:\n",
      "\u001b[1;31mKeyboardInterrupt\u001b[0m: "
     ]
    }
   ],
   "source": [
    "model_aufklaerung = train_model(sent, sent_aufklaerung, 30, 30)"
   ]
  },
  {
   "cell_type": "code",
   "execution_count": null,
   "id": "a0a9ba96-6f60-476b-a641-0d23458d0b88",
   "metadata": {},
   "outputs": [],
   "source": [
    "model_kunstepoche = train_model(sent, sent_kunstepoche, 30, 30)"
   ]
  },
  {
   "cell_type": "code",
   "execution_count": null,
   "id": "3dcb1e1a-698d-4180-bcba-77f4a0777375",
   "metadata": {},
   "outputs": [],
   "source": [
    "model_aufklaerung.wv.most_similar([\"königin\"])"
   ]
  },
  {
   "cell_type": "code",
   "execution_count": null,
   "id": "42f6c2db-91c8-47fa-aed2-3664ad9b6d1d",
   "metadata": {},
   "outputs": [],
   "source": [
    "model_kunstepoche.wv.most_similar([\"königin\"])"
   ]
  },
  {
   "cell_type": "markdown",
   "id": "17cc85d6-66eb-4388-b694-ff48b5e045f3",
   "metadata": {},
   "source": [
    "## get wordlist from gensim-output"
   ]
  },
  {
   "cell_type": "code",
   "execution_count": null,
   "id": "6033bdae-6ea2-458e-a08a-f3f31ff1c66c",
   "metadata": {},
   "outputs": [],
   "source": [
    "def make_wordlist_from_gensimoutput(gensim_output):\n",
    "    wordlist = []\n",
    "\n",
    "    for word in gensim_output:\n",
    "        wordlist.append(word[0])\n",
    "\n",
    "    return wordlist"
   ]
  },
  {
   "cell_type": "markdown",
   "id": "b3a58768-18cd-4d09-804d-6d802e71b87f",
   "metadata": {},
   "source": [
    "## Semantic Change"
   ]
  },
  {
   "cell_type": "code",
   "execution_count": null,
   "id": "0fe8a30e-55cc-4b37-b3df-1fe72d46a31e",
   "metadata": {},
   "outputs": [],
   "source": [
    "def calculate_difference(list_one, list_two):\n",
    "    length_list_one = len(list_one)\n",
    "    \n",
    "    result = set(list_one).intersection(set(list_two))\n",
    "    number_of_same_elements = len(result)\n",
    "    \n",
    "    return number_of_same_elements/length_list_one"
   ]
  },
  {
   "cell_type": "code",
   "execution_count": null,
   "id": "6ad5090f-7779-4979-a5c9-833c707054e5",
   "metadata": {},
   "outputs": [],
   "source": [
    "calculate_difference(make_wordlist_from_gensimoutput(model_aufklaerung.wv.most_similar([\"königin\"], topn=100)),\n",
    "                     make_wordlist_from_gensimoutput(model_kunstepoche.wv.most_similar([\"königin\"], topn=100)))"
   ]
  },
  {
   "cell_type": "code",
   "execution_count": null,
   "id": "ad6c3fe9-9803-4e32-be03-ac3499d940b9",
   "metadata": {},
   "outputs": [],
   "source": [
    "make_wordlist_from_gensimoutput(model_aufklaerung.wv.most_similar([\"mensch\"]))"
   ]
  },
  {
   "cell_type": "code",
   "execution_count": null,
   "id": "50daf785-2a4f-4a73-b2c2-3f9014ce1a9f",
   "metadata": {},
   "outputs": [],
   "source": [
    "make_wordlist_from_gensimoutput(model_kunstepoche.wv.most_similar([\"mensch\"]))"
   ]
  },
  {
   "cell_type": "markdown",
   "id": "3efd6b56-81e0-42dc-930f-d150e3ae741a",
   "metadata": {},
   "source": [
    "# Evaluation"
   ]
  },
  {
   "cell_type": "code",
   "execution_count": null,
   "id": "f659a72f-a18c-4f6f-b199-7c5690249ee7",
   "metadata": {},
   "outputs": [],
   "source": [
    "df = pd.read_csv(\"results/word_freq_drama.csv\", encoding = \"utf8\").drop([\"Unnamed: 0\"], axis=1)\n",
    "wordlist_freq = list(df[\"word\"].loc[df[\"count_complete\"]>4])\n",
    "len(wordlist_freq)"
   ]
  },
  {
   "cell_type": "code",
   "execution_count": null,
   "id": "e7d1f4cd-9c7e-472c-aa60-fc01d1c901d2",
   "metadata": {},
   "outputs": [],
   "source": [
    "model_aufklaerung.wv.index_to_key[1]"
   ]
  },
  {
   "cell_type": "code",
   "execution_count": null,
   "id": "daa6b172-e73c-4c29-af22-c95ce1bedcb0",
   "metadata": {},
   "outputs": [],
   "source": [
    "wordlist_aufklaerung = []\n",
    "\n",
    "for i in range(0, len(model_aufklaerung.wv)):\n",
    "    wordlist_aufklaerung.append(model_aufklaerung.wv.index_to_key[i])\n",
    "len(wordlist_aufklaerung)"
   ]
  },
  {
   "cell_type": "code",
   "execution_count": null,
   "id": "3d48a863-fc33-4799-89c0-fb0b965cd094",
   "metadata": {},
   "outputs": [],
   "source": [
    "wordlist_kunstepoche = []\n",
    "\n",
    "for i in range(0, len(model_kunstepoche.wv)):\n",
    "    wordlist_kunstepoche.append(model_kunstepoche.wv.index_to_key[i])\n",
    "len(wordlist_kunstepoche)"
   ]
  },
  {
   "cell_type": "code",
   "execution_count": null,
   "id": "cf334348-90c2-4f19-b8a9-f342bc62dc2f",
   "metadata": {},
   "outputs": [],
   "source": [
    "wordlist = set(wordlist_kunstepoche).intersection(set(wordlist_aufklaerung)).intersection(set(wordlist_freq))"
   ]
  },
  {
   "cell_type": "code",
   "execution_count": null,
   "id": "407defcf-7c84-464a-a357-4b61092cd69f",
   "metadata": {},
   "outputs": [],
   "source": [
    "\"rüstig\" in wordlist"
   ]
  },
  {
   "cell_type": "code",
   "execution_count": null,
   "id": "cff6dc41-ce7a-4e8e-b18a-78f853efc88d",
   "metadata": {},
   "outputs": [],
   "source": [
    "scores = []\n",
    "\n",
    "for word in wordlist:\n",
    "    word_list1 = make_wordlist_from_gensimoutput(model_aufklaerung.wv.most_similar([str(word)], topn=100))\n",
    "    word_list2 = make_wordlist_from_gensimoutput(model_kunstepoche.wv.most_similar([str(word)], topn=100))\n",
    "    \n",
    "    scores.append(calculate_difference(word_list1, word_list2))              "
   ]
  },
  {
   "cell_type": "code",
   "execution_count": null,
   "id": "893d70a1-6eb9-41d1-9ec3-5e6634ecb186",
   "metadata": {},
   "outputs": [],
   "source": [
    "finalDf = pd.DataFrame(wordlist, columns = [\"word\"])\n",
    "finalDf[\"semantic_score\"] = scores\n",
    "newDf = finalDf.merge(df, on=\"word\")\n",
    "newDf.head()"
   ]
  },
  {
   "cell_type": "code",
   "execution_count": null,
   "id": "338198e5-9d47-485e-ba08-2d53ce2b5510",
   "metadata": {},
   "outputs": [],
   "source": [
    "import plotly.express as px\n",
    "\n",
    "fig = px.box(finalDf, y = \"semantic_score\")\n",
    "fig.show()"
   ]
  },
  {
   "cell_type": "code",
   "execution_count": null,
   "id": "f4edc6fe-8ce5-484d-b06b-be67ba8e5ff8",
   "metadata": {},
   "outputs": [],
   "source": [
    "evaluation_list_change = [\"wunderlich\", \"aufrüsten\", \"korrumpieren\", \"unartig\",  \"merkwürdig\", \"gemüt\", \"bedenken\", \"fräulein\", \"frauenzimmer\", \"brav\"]\n",
    "evaluation_list_nochange = [\"korruption\", \"ehrlich\", \"witzig\", \"ehre\", \"gemütlich\", \"einsam\", \"geschichte\", \"aufdringlich\", \"zudringlich\", \"bequem\", \"genie\", \"blöd\"]"
   ]
  },
  {
   "cell_type": "code",
   "execution_count": null,
   "id": "a3464775-f881-43c2-91e4-4dd13622df82",
   "metadata": {},
   "outputs": [],
   "source": [
    "len(evaluation_list_change)"
   ]
  },
  {
   "cell_type": "code",
   "execution_count": null,
   "id": "c251118d-b67a-4724-9332-7921ca0b1824",
   "metadata": {},
   "outputs": [],
   "source": [
    "len(evaluation_list_nochange)"
   ]
  },
  {
   "cell_type": "code",
   "execution_count": null,
   "id": "d7f52a77-f19e-4306-bc8c-120c64104e9b",
   "metadata": {},
   "outputs": [],
   "source": [
    "finalDf.describe()"
   ]
  },
  {
   "cell_type": "code",
   "execution_count": null,
   "id": "b11c652e-c86d-4f65-8ea4-9b4e232f43bb",
   "metadata": {},
   "outputs": [],
   "source": [
    "newDf[newDf[\"word\"].isin(evaluation_list_change)].loc[(newDf[\"count_aufklaerung\"]>=10) & (newDf[\"count_kunstepoche\"]>=10)]"
   ]
  },
  {
   "cell_type": "code",
   "execution_count": null,
   "id": "c5da5256-9289-4aa2-a3c2-fc83abdb86ef",
   "metadata": {},
   "outputs": [],
   "source": [
    "newDf[newDf[\"word\"].isin(evaluation_list_change)].loc[(newDf[\"count_aufklaerung\"]>=10) & (newDf[\"count_kunstepoche\"]>=10)].median()"
   ]
  },
  {
   "cell_type": "code",
   "execution_count": null,
   "id": "135903de-1053-4ac0-85a1-cb1fecde0de0",
   "metadata": {},
   "outputs": [],
   "source": [
    "newDf[newDf[\"word\"].isin(evaluation_list_nochange)].loc[(newDf[\"count_aufklaerung\"]>=10) & (newDf[\"count_kunstepoche\"]>=10)]"
   ]
  },
  {
   "cell_type": "code",
   "execution_count": null,
   "id": "4d2fad57-2b4d-4adb-944d-efaa771dda56",
   "metadata": {},
   "outputs": [],
   "source": [
    "newDf[newDf[\"word\"].isin(evaluation_list_nochange)].loc[(newDf[\"count_aufklaerung\"]>=10) & (newDf[\"count_kunstepoche\"]>=10)].median()"
   ]
  },
  {
   "cell_type": "code",
   "execution_count": null,
   "id": "7bc1b3fa-e71a-4e8a-b8f6-356d1718bb4b",
   "metadata": {},
   "outputs": [],
   "source": [
    "newDf.to_csv(\"semantic_change_freq_results.csv\", encoding = \"utf8\")"
   ]
  }
 ],
 "metadata": {
  "kernelspec": {
   "display_name": "Python 3 (ipykernel)",
   "language": "python",
   "name": "python3"
  },
  "language_info": {
   "codemirror_mode": {
    "name": "ipython",
    "version": 3
   },
   "file_extension": ".py",
   "mimetype": "text/x-python",
   "name": "python",
   "nbconvert_exporter": "python",
   "pygments_lexer": "ipython3",
   "version": "3.9.13"
  }
 },
 "nbformat": 4,
 "nbformat_minor": 5
}
